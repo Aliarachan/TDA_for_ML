{
  "nbformat": 4,
  "nbformat_minor": 0,
  "metadata": {
    "colab": {
      "name": "TDA-DeepLearning.ipynb",
      "provenance": [],
      "collapsed_sections": [],
      "toc_visible": true
    },
    "kernelspec": {
      "name": "python3",
      "display_name": "Python 3"
    },
    "accelerator": "GPU",
    "widgets": {
      "application/vnd.jupyter.widget-state+json": {
        "8aa8d4d96a704469b2341a8f51011bfd": {
          "model_module": "@jupyter-widgets/controls",
          "model_name": "HBoxModel",
          "state": {
            "_view_name": "HBoxView",
            "_dom_classes": [],
            "_model_name": "HBoxModel",
            "_view_module": "@jupyter-widgets/controls",
            "_model_module_version": "1.5.0",
            "_view_count": null,
            "_view_module_version": "1.5.0",
            "box_style": "",
            "layout": "IPY_MODEL_e0ff0f0cada746e1b502568930a4b818",
            "_model_module": "@jupyter-widgets/controls",
            "children": [
              "IPY_MODEL_130a2fa891ed493c848ee007eef00b7f",
              "IPY_MODEL_06340efecfb049038aa6d4d94fad7d8c"
            ]
          }
        },
        "e0ff0f0cada746e1b502568930a4b818": {
          "model_module": "@jupyter-widgets/base",
          "model_name": "LayoutModel",
          "state": {
            "_view_name": "LayoutView",
            "grid_template_rows": null,
            "right": null,
            "justify_content": null,
            "_view_module": "@jupyter-widgets/base",
            "overflow": null,
            "_model_module_version": "1.2.0",
            "_view_count": null,
            "flex_flow": null,
            "width": null,
            "min_width": null,
            "border": null,
            "align_items": null,
            "bottom": null,
            "_model_module": "@jupyter-widgets/base",
            "top": null,
            "grid_column": null,
            "overflow_y": null,
            "overflow_x": null,
            "grid_auto_flow": null,
            "grid_area": null,
            "grid_template_columns": null,
            "flex": null,
            "_model_name": "LayoutModel",
            "justify_items": null,
            "grid_row": null,
            "max_height": null,
            "align_content": null,
            "visibility": null,
            "align_self": null,
            "height": null,
            "min_height": null,
            "padding": null,
            "grid_auto_rows": null,
            "grid_gap": null,
            "max_width": null,
            "order": null,
            "_view_module_version": "1.2.0",
            "grid_template_areas": null,
            "object_position": null,
            "object_fit": null,
            "grid_auto_columns": null,
            "margin": null,
            "display": null,
            "left": null
          }
        },
        "130a2fa891ed493c848ee007eef00b7f": {
          "model_module": "@jupyter-widgets/controls",
          "model_name": "FloatProgressModel",
          "state": {
            "_view_name": "ProgressView",
            "style": "IPY_MODEL_b7a8169b997a4effa67b027ae9edc730",
            "_dom_classes": [],
            "description": "100%",
            "_model_name": "FloatProgressModel",
            "bar_style": "success",
            "max": 87554,
            "_view_module": "@jupyter-widgets/controls",
            "_model_module_version": "1.5.0",
            "value": 87554,
            "_view_count": null,
            "_view_module_version": "1.5.0",
            "orientation": "horizontal",
            "min": 0,
            "description_tooltip": null,
            "_model_module": "@jupyter-widgets/controls",
            "layout": "IPY_MODEL_a5a2e8e6be324743ac47b48edf87796c"
          }
        },
        "06340efecfb049038aa6d4d94fad7d8c": {
          "model_module": "@jupyter-widgets/controls",
          "model_name": "HTMLModel",
          "state": {
            "_view_name": "HTMLView",
            "style": "IPY_MODEL_2170124f8f6e414697debc3c6eb839ca",
            "_dom_classes": [],
            "description": "",
            "_model_name": "HTMLModel",
            "placeholder": "​",
            "_view_module": "@jupyter-widgets/controls",
            "_model_module_version": "1.5.0",
            "value": " 87554/87554 [04:04&lt;00:00, 358.29it/s]",
            "_view_count": null,
            "_view_module_version": "1.5.0",
            "description_tooltip": null,
            "_model_module": "@jupyter-widgets/controls",
            "layout": "IPY_MODEL_662b72104957482e98d172acc37ee981"
          }
        },
        "b7a8169b997a4effa67b027ae9edc730": {
          "model_module": "@jupyter-widgets/controls",
          "model_name": "ProgressStyleModel",
          "state": {
            "_view_name": "StyleView",
            "_model_name": "ProgressStyleModel",
            "description_width": "initial",
            "_view_module": "@jupyter-widgets/base",
            "_model_module_version": "1.5.0",
            "_view_count": null,
            "_view_module_version": "1.2.0",
            "bar_color": null,
            "_model_module": "@jupyter-widgets/controls"
          }
        },
        "a5a2e8e6be324743ac47b48edf87796c": {
          "model_module": "@jupyter-widgets/base",
          "model_name": "LayoutModel",
          "state": {
            "_view_name": "LayoutView",
            "grid_template_rows": null,
            "right": null,
            "justify_content": null,
            "_view_module": "@jupyter-widgets/base",
            "overflow": null,
            "_model_module_version": "1.2.0",
            "_view_count": null,
            "flex_flow": null,
            "width": null,
            "min_width": null,
            "border": null,
            "align_items": null,
            "bottom": null,
            "_model_module": "@jupyter-widgets/base",
            "top": null,
            "grid_column": null,
            "overflow_y": null,
            "overflow_x": null,
            "grid_auto_flow": null,
            "grid_area": null,
            "grid_template_columns": null,
            "flex": null,
            "_model_name": "LayoutModel",
            "justify_items": null,
            "grid_row": null,
            "max_height": null,
            "align_content": null,
            "visibility": null,
            "align_self": null,
            "height": null,
            "min_height": null,
            "padding": null,
            "grid_auto_rows": null,
            "grid_gap": null,
            "max_width": null,
            "order": null,
            "_view_module_version": "1.2.0",
            "grid_template_areas": null,
            "object_position": null,
            "object_fit": null,
            "grid_auto_columns": null,
            "margin": null,
            "display": null,
            "left": null
          }
        },
        "2170124f8f6e414697debc3c6eb839ca": {
          "model_module": "@jupyter-widgets/controls",
          "model_name": "DescriptionStyleModel",
          "state": {
            "_view_name": "StyleView",
            "_model_name": "DescriptionStyleModel",
            "description_width": "",
            "_view_module": "@jupyter-widgets/base",
            "_model_module_version": "1.5.0",
            "_view_count": null,
            "_view_module_version": "1.2.0",
            "_model_module": "@jupyter-widgets/controls"
          }
        },
        "662b72104957482e98d172acc37ee981": {
          "model_module": "@jupyter-widgets/base",
          "model_name": "LayoutModel",
          "state": {
            "_view_name": "LayoutView",
            "grid_template_rows": null,
            "right": null,
            "justify_content": null,
            "_view_module": "@jupyter-widgets/base",
            "overflow": null,
            "_model_module_version": "1.2.0",
            "_view_count": null,
            "flex_flow": null,
            "width": null,
            "min_width": null,
            "border": null,
            "align_items": null,
            "bottom": null,
            "_model_module": "@jupyter-widgets/base",
            "top": null,
            "grid_column": null,
            "overflow_y": null,
            "overflow_x": null,
            "grid_auto_flow": null,
            "grid_area": null,
            "grid_template_columns": null,
            "flex": null,
            "_model_name": "LayoutModel",
            "justify_items": null,
            "grid_row": null,
            "max_height": null,
            "align_content": null,
            "visibility": null,
            "align_self": null,
            "height": null,
            "min_height": null,
            "padding": null,
            "grid_auto_rows": null,
            "grid_gap": null,
            "max_width": null,
            "order": null,
            "_view_module_version": "1.2.0",
            "grid_template_areas": null,
            "object_position": null,
            "object_fit": null,
            "grid_auto_columns": null,
            "margin": null,
            "display": null,
            "left": null
          }
        },
        "9e75d21a1efb41b889b0b16c2bf231d6": {
          "model_module": "@jupyter-widgets/controls",
          "model_name": "HBoxModel",
          "state": {
            "_view_name": "HBoxView",
            "_dom_classes": [],
            "_model_name": "HBoxModel",
            "_view_module": "@jupyter-widgets/controls",
            "_model_module_version": "1.5.0",
            "_view_count": null,
            "_view_module_version": "1.5.0",
            "box_style": "",
            "layout": "IPY_MODEL_608dff4720614eee815bea6acdbea314",
            "_model_module": "@jupyter-widgets/controls",
            "children": [
              "IPY_MODEL_07e0b84401ec493bbebb433ca8a3143e",
              "IPY_MODEL_55988f3fa03c4c7bb06dadfcbabd3274"
            ]
          }
        },
        "608dff4720614eee815bea6acdbea314": {
          "model_module": "@jupyter-widgets/base",
          "model_name": "LayoutModel",
          "state": {
            "_view_name": "LayoutView",
            "grid_template_rows": null,
            "right": null,
            "justify_content": null,
            "_view_module": "@jupyter-widgets/base",
            "overflow": null,
            "_model_module_version": "1.2.0",
            "_view_count": null,
            "flex_flow": null,
            "width": null,
            "min_width": null,
            "border": null,
            "align_items": null,
            "bottom": null,
            "_model_module": "@jupyter-widgets/base",
            "top": null,
            "grid_column": null,
            "overflow_y": null,
            "overflow_x": null,
            "grid_auto_flow": null,
            "grid_area": null,
            "grid_template_columns": null,
            "flex": null,
            "_model_name": "LayoutModel",
            "justify_items": null,
            "grid_row": null,
            "max_height": null,
            "align_content": null,
            "visibility": null,
            "align_self": null,
            "height": null,
            "min_height": null,
            "padding": null,
            "grid_auto_rows": null,
            "grid_gap": null,
            "max_width": null,
            "order": null,
            "_view_module_version": "1.2.0",
            "grid_template_areas": null,
            "object_position": null,
            "object_fit": null,
            "grid_auto_columns": null,
            "margin": null,
            "display": null,
            "left": null
          }
        },
        "07e0b84401ec493bbebb433ca8a3143e": {
          "model_module": "@jupyter-widgets/controls",
          "model_name": "FloatProgressModel",
          "state": {
            "_view_name": "ProgressView",
            "style": "IPY_MODEL_9c7ae29a962a4bd6b4a32c0939ce9ea8",
            "_dom_classes": [],
            "description": "100%",
            "_model_name": "FloatProgressModel",
            "bar_style": "success",
            "max": 87554,
            "_view_module": "@jupyter-widgets/controls",
            "_model_module_version": "1.5.0",
            "value": 87554,
            "_view_count": null,
            "_view_module_version": "1.5.0",
            "orientation": "horizontal",
            "min": 0,
            "description_tooltip": null,
            "_model_module": "@jupyter-widgets/controls",
            "layout": "IPY_MODEL_cba909542e8043abb6d99ffbf38a5cf8"
          }
        },
        "55988f3fa03c4c7bb06dadfcbabd3274": {
          "model_module": "@jupyter-widgets/controls",
          "model_name": "HTMLModel",
          "state": {
            "_view_name": "HTMLView",
            "style": "IPY_MODEL_b74f2cbbe7034d60a1bd79f4b585425d",
            "_dom_classes": [],
            "description": "",
            "_model_name": "HTMLModel",
            "placeholder": "​",
            "_view_module": "@jupyter-widgets/controls",
            "_model_module_version": "1.5.0",
            "value": " 87554/87554 [00:33&lt;00:00, 2601.71it/s]",
            "_view_count": null,
            "_view_module_version": "1.5.0",
            "description_tooltip": null,
            "_model_module": "@jupyter-widgets/controls",
            "layout": "IPY_MODEL_843b6caa173c432e8fbe5af3d072c6db"
          }
        },
        "9c7ae29a962a4bd6b4a32c0939ce9ea8": {
          "model_module": "@jupyter-widgets/controls",
          "model_name": "ProgressStyleModel",
          "state": {
            "_view_name": "StyleView",
            "_model_name": "ProgressStyleModel",
            "description_width": "initial",
            "_view_module": "@jupyter-widgets/base",
            "_model_module_version": "1.5.0",
            "_view_count": null,
            "_view_module_version": "1.2.0",
            "bar_color": null,
            "_model_module": "@jupyter-widgets/controls"
          }
        },
        "cba909542e8043abb6d99ffbf38a5cf8": {
          "model_module": "@jupyter-widgets/base",
          "model_name": "LayoutModel",
          "state": {
            "_view_name": "LayoutView",
            "grid_template_rows": null,
            "right": null,
            "justify_content": null,
            "_view_module": "@jupyter-widgets/base",
            "overflow": null,
            "_model_module_version": "1.2.0",
            "_view_count": null,
            "flex_flow": null,
            "width": null,
            "min_width": null,
            "border": null,
            "align_items": null,
            "bottom": null,
            "_model_module": "@jupyter-widgets/base",
            "top": null,
            "grid_column": null,
            "overflow_y": null,
            "overflow_x": null,
            "grid_auto_flow": null,
            "grid_area": null,
            "grid_template_columns": null,
            "flex": null,
            "_model_name": "LayoutModel",
            "justify_items": null,
            "grid_row": null,
            "max_height": null,
            "align_content": null,
            "visibility": null,
            "align_self": null,
            "height": null,
            "min_height": null,
            "padding": null,
            "grid_auto_rows": null,
            "grid_gap": null,
            "max_width": null,
            "order": null,
            "_view_module_version": "1.2.0",
            "grid_template_areas": null,
            "object_position": null,
            "object_fit": null,
            "grid_auto_columns": null,
            "margin": null,
            "display": null,
            "left": null
          }
        },
        "b74f2cbbe7034d60a1bd79f4b585425d": {
          "model_module": "@jupyter-widgets/controls",
          "model_name": "DescriptionStyleModel",
          "state": {
            "_view_name": "StyleView",
            "_model_name": "DescriptionStyleModel",
            "description_width": "",
            "_view_module": "@jupyter-widgets/base",
            "_model_module_version": "1.5.0",
            "_view_count": null,
            "_view_module_version": "1.2.0",
            "_model_module": "@jupyter-widgets/controls"
          }
        },
        "843b6caa173c432e8fbe5af3d072c6db": {
          "model_module": "@jupyter-widgets/base",
          "model_name": "LayoutModel",
          "state": {
            "_view_name": "LayoutView",
            "grid_template_rows": null,
            "right": null,
            "justify_content": null,
            "_view_module": "@jupyter-widgets/base",
            "overflow": null,
            "_model_module_version": "1.2.0",
            "_view_count": null,
            "flex_flow": null,
            "width": null,
            "min_width": null,
            "border": null,
            "align_items": null,
            "bottom": null,
            "_model_module": "@jupyter-widgets/base",
            "top": null,
            "grid_column": null,
            "overflow_y": null,
            "overflow_x": null,
            "grid_auto_flow": null,
            "grid_area": null,
            "grid_template_columns": null,
            "flex": null,
            "_model_name": "LayoutModel",
            "justify_items": null,
            "grid_row": null,
            "max_height": null,
            "align_content": null,
            "visibility": null,
            "align_self": null,
            "height": null,
            "min_height": null,
            "padding": null,
            "grid_auto_rows": null,
            "grid_gap": null,
            "max_width": null,
            "order": null,
            "_view_module_version": "1.2.0",
            "grid_template_areas": null,
            "object_position": null,
            "object_fit": null,
            "grid_auto_columns": null,
            "margin": null,
            "display": null,
            "left": null
          }
        },
        "81c8dd9417f144c1be7e102b023238f9": {
          "model_module": "@jupyter-widgets/controls",
          "model_name": "HBoxModel",
          "state": {
            "_view_name": "HBoxView",
            "_dom_classes": [],
            "_model_name": "HBoxModel",
            "_view_module": "@jupyter-widgets/controls",
            "_model_module_version": "1.5.0",
            "_view_count": null,
            "_view_module_version": "1.5.0",
            "box_style": "",
            "layout": "IPY_MODEL_4ff6f13ec3e24cf1a0738563200a4b4d",
            "_model_module": "@jupyter-widgets/controls",
            "children": [
              "IPY_MODEL_8cf2c89cbec146919b6f67bfae5be24e",
              "IPY_MODEL_c7da88f7c02b4467b7bb9ee1794a89a7"
            ]
          }
        },
        "4ff6f13ec3e24cf1a0738563200a4b4d": {
          "model_module": "@jupyter-widgets/base",
          "model_name": "LayoutModel",
          "state": {
            "_view_name": "LayoutView",
            "grid_template_rows": null,
            "right": null,
            "justify_content": null,
            "_view_module": "@jupyter-widgets/base",
            "overflow": null,
            "_model_module_version": "1.2.0",
            "_view_count": null,
            "flex_flow": null,
            "width": null,
            "min_width": null,
            "border": null,
            "align_items": null,
            "bottom": null,
            "_model_module": "@jupyter-widgets/base",
            "top": null,
            "grid_column": null,
            "overflow_y": null,
            "overflow_x": null,
            "grid_auto_flow": null,
            "grid_area": null,
            "grid_template_columns": null,
            "flex": null,
            "_model_name": "LayoutModel",
            "justify_items": null,
            "grid_row": null,
            "max_height": null,
            "align_content": null,
            "visibility": null,
            "align_self": null,
            "height": null,
            "min_height": null,
            "padding": null,
            "grid_auto_rows": null,
            "grid_gap": null,
            "max_width": null,
            "order": null,
            "_view_module_version": "1.2.0",
            "grid_template_areas": null,
            "object_position": null,
            "object_fit": null,
            "grid_auto_columns": null,
            "margin": null,
            "display": null,
            "left": null
          }
        },
        "8cf2c89cbec146919b6f67bfae5be24e": {
          "model_module": "@jupyter-widgets/controls",
          "model_name": "FloatProgressModel",
          "state": {
            "_view_name": "ProgressView",
            "style": "IPY_MODEL_8dbb35b70b2c43a3a91938969e76f014",
            "_dom_classes": [],
            "description": "100%",
            "_model_name": "FloatProgressModel",
            "bar_style": "success",
            "max": 87554,
            "_view_module": "@jupyter-widgets/controls",
            "_model_module_version": "1.5.0",
            "value": 87554,
            "_view_count": null,
            "_view_module_version": "1.5.0",
            "orientation": "horizontal",
            "min": 0,
            "description_tooltip": null,
            "_model_module": "@jupyter-widgets/controls",
            "layout": "IPY_MODEL_ce5f5b6dc2564d89b41315e76545360a"
          }
        },
        "c7da88f7c02b4467b7bb9ee1794a89a7": {
          "model_module": "@jupyter-widgets/controls",
          "model_name": "HTMLModel",
          "state": {
            "_view_name": "HTMLView",
            "style": "IPY_MODEL_6c8838be461d4b1d8cca6eb9e2be8c48",
            "_dom_classes": [],
            "description": "",
            "_model_name": "HTMLModel",
            "placeholder": "​",
            "_view_module": "@jupyter-widgets/controls",
            "_model_module_version": "1.5.0",
            "value": " 87554/87554 [02:02&lt;00:00, 715.50it/s]",
            "_view_count": null,
            "_view_module_version": "1.5.0",
            "description_tooltip": null,
            "_model_module": "@jupyter-widgets/controls",
            "layout": "IPY_MODEL_bc1c828309c14b83a00a2bf950d732f5"
          }
        },
        "8dbb35b70b2c43a3a91938969e76f014": {
          "model_module": "@jupyter-widgets/controls",
          "model_name": "ProgressStyleModel",
          "state": {
            "_view_name": "StyleView",
            "_model_name": "ProgressStyleModel",
            "description_width": "initial",
            "_view_module": "@jupyter-widgets/base",
            "_model_module_version": "1.5.0",
            "_view_count": null,
            "_view_module_version": "1.2.0",
            "bar_color": null,
            "_model_module": "@jupyter-widgets/controls"
          }
        },
        "ce5f5b6dc2564d89b41315e76545360a": {
          "model_module": "@jupyter-widgets/base",
          "model_name": "LayoutModel",
          "state": {
            "_view_name": "LayoutView",
            "grid_template_rows": null,
            "right": null,
            "justify_content": null,
            "_view_module": "@jupyter-widgets/base",
            "overflow": null,
            "_model_module_version": "1.2.0",
            "_view_count": null,
            "flex_flow": null,
            "width": null,
            "min_width": null,
            "border": null,
            "align_items": null,
            "bottom": null,
            "_model_module": "@jupyter-widgets/base",
            "top": null,
            "grid_column": null,
            "overflow_y": null,
            "overflow_x": null,
            "grid_auto_flow": null,
            "grid_area": null,
            "grid_template_columns": null,
            "flex": null,
            "_model_name": "LayoutModel",
            "justify_items": null,
            "grid_row": null,
            "max_height": null,
            "align_content": null,
            "visibility": null,
            "align_self": null,
            "height": null,
            "min_height": null,
            "padding": null,
            "grid_auto_rows": null,
            "grid_gap": null,
            "max_width": null,
            "order": null,
            "_view_module_version": "1.2.0",
            "grid_template_areas": null,
            "object_position": null,
            "object_fit": null,
            "grid_auto_columns": null,
            "margin": null,
            "display": null,
            "left": null
          }
        },
        "6c8838be461d4b1d8cca6eb9e2be8c48": {
          "model_module": "@jupyter-widgets/controls",
          "model_name": "DescriptionStyleModel",
          "state": {
            "_view_name": "StyleView",
            "_model_name": "DescriptionStyleModel",
            "description_width": "",
            "_view_module": "@jupyter-widgets/base",
            "_model_module_version": "1.5.0",
            "_view_count": null,
            "_view_module_version": "1.2.0",
            "_model_module": "@jupyter-widgets/controls"
          }
        },
        "bc1c828309c14b83a00a2bf950d732f5": {
          "model_module": "@jupyter-widgets/base",
          "model_name": "LayoutModel",
          "state": {
            "_view_name": "LayoutView",
            "grid_template_rows": null,
            "right": null,
            "justify_content": null,
            "_view_module": "@jupyter-widgets/base",
            "overflow": null,
            "_model_module_version": "1.2.0",
            "_view_count": null,
            "flex_flow": null,
            "width": null,
            "min_width": null,
            "border": null,
            "align_items": null,
            "bottom": null,
            "_model_module": "@jupyter-widgets/base",
            "top": null,
            "grid_column": null,
            "overflow_y": null,
            "overflow_x": null,
            "grid_auto_flow": null,
            "grid_area": null,
            "grid_template_columns": null,
            "flex": null,
            "_model_name": "LayoutModel",
            "justify_items": null,
            "grid_row": null,
            "max_height": null,
            "align_content": null,
            "visibility": null,
            "align_self": null,
            "height": null,
            "min_height": null,
            "padding": null,
            "grid_auto_rows": null,
            "grid_gap": null,
            "max_width": null,
            "order": null,
            "_view_module_version": "1.2.0",
            "grid_template_areas": null,
            "object_position": null,
            "object_fit": null,
            "grid_auto_columns": null,
            "margin": null,
            "display": null,
            "left": null
          }
        },
        "dd8cba6786964d8987fda26beb788bf8": {
          "model_module": "@jupyter-widgets/controls",
          "model_name": "HBoxModel",
          "state": {
            "_view_name": "HBoxView",
            "_dom_classes": [],
            "_model_name": "HBoxModel",
            "_view_module": "@jupyter-widgets/controls",
            "_model_module_version": "1.5.0",
            "_view_count": null,
            "_view_module_version": "1.5.0",
            "box_style": "",
            "layout": "IPY_MODEL_a949ecdcdfe14e9c917856dd5cbc28dc",
            "_model_module": "@jupyter-widgets/controls",
            "children": [
              "IPY_MODEL_5f2b27bc6d064151881b16fee957bfee",
              "IPY_MODEL_ee5ea02bee30417080ce44993d83c9ff"
            ]
          }
        },
        "a949ecdcdfe14e9c917856dd5cbc28dc": {
          "model_module": "@jupyter-widgets/base",
          "model_name": "LayoutModel",
          "state": {
            "_view_name": "LayoutView",
            "grid_template_rows": null,
            "right": null,
            "justify_content": null,
            "_view_module": "@jupyter-widgets/base",
            "overflow": null,
            "_model_module_version": "1.2.0",
            "_view_count": null,
            "flex_flow": null,
            "width": null,
            "min_width": null,
            "border": null,
            "align_items": null,
            "bottom": null,
            "_model_module": "@jupyter-widgets/base",
            "top": null,
            "grid_column": null,
            "overflow_y": null,
            "overflow_x": null,
            "grid_auto_flow": null,
            "grid_area": null,
            "grid_template_columns": null,
            "flex": null,
            "_model_name": "LayoutModel",
            "justify_items": null,
            "grid_row": null,
            "max_height": null,
            "align_content": null,
            "visibility": null,
            "align_self": null,
            "height": null,
            "min_height": null,
            "padding": null,
            "grid_auto_rows": null,
            "grid_gap": null,
            "max_width": null,
            "order": null,
            "_view_module_version": "1.2.0",
            "grid_template_areas": null,
            "object_position": null,
            "object_fit": null,
            "grid_auto_columns": null,
            "margin": null,
            "display": null,
            "left": null
          }
        },
        "5f2b27bc6d064151881b16fee957bfee": {
          "model_module": "@jupyter-widgets/controls",
          "model_name": "FloatProgressModel",
          "state": {
            "_view_name": "ProgressView",
            "style": "IPY_MODEL_2a42478eedcc44b8aaca346f1f835272",
            "_dom_classes": [],
            "description": "100%",
            "_model_name": "FloatProgressModel",
            "bar_style": "success",
            "max": 87554,
            "_view_module": "@jupyter-widgets/controls",
            "_model_module_version": "1.5.0",
            "value": 87554,
            "_view_count": null,
            "_view_module_version": "1.5.0",
            "orientation": "horizontal",
            "min": 0,
            "description_tooltip": null,
            "_model_module": "@jupyter-widgets/controls",
            "layout": "IPY_MODEL_7b40ebdfd4874f30bf968592f9630bce"
          }
        },
        "ee5ea02bee30417080ce44993d83c9ff": {
          "model_module": "@jupyter-widgets/controls",
          "model_name": "HTMLModel",
          "state": {
            "_view_name": "HTMLView",
            "style": "IPY_MODEL_ed29f13cbe8c430c8a125226ab7eb781",
            "_dom_classes": [],
            "description": "",
            "_model_name": "HTMLModel",
            "placeholder": "​",
            "_view_module": "@jupyter-widgets/controls",
            "_model_module_version": "1.5.0",
            "value": " 87554/87554 [02:05&lt;00:00, 698.79it/s]",
            "_view_count": null,
            "_view_module_version": "1.5.0",
            "description_tooltip": null,
            "_model_module": "@jupyter-widgets/controls",
            "layout": "IPY_MODEL_8b1635d05571452f80666c8d3d67dd60"
          }
        },
        "2a42478eedcc44b8aaca346f1f835272": {
          "model_module": "@jupyter-widgets/controls",
          "model_name": "ProgressStyleModel",
          "state": {
            "_view_name": "StyleView",
            "_model_name": "ProgressStyleModel",
            "description_width": "initial",
            "_view_module": "@jupyter-widgets/base",
            "_model_module_version": "1.5.0",
            "_view_count": null,
            "_view_module_version": "1.2.0",
            "bar_color": null,
            "_model_module": "@jupyter-widgets/controls"
          }
        },
        "7b40ebdfd4874f30bf968592f9630bce": {
          "model_module": "@jupyter-widgets/base",
          "model_name": "LayoutModel",
          "state": {
            "_view_name": "LayoutView",
            "grid_template_rows": null,
            "right": null,
            "justify_content": null,
            "_view_module": "@jupyter-widgets/base",
            "overflow": null,
            "_model_module_version": "1.2.0",
            "_view_count": null,
            "flex_flow": null,
            "width": null,
            "min_width": null,
            "border": null,
            "align_items": null,
            "bottom": null,
            "_model_module": "@jupyter-widgets/base",
            "top": null,
            "grid_column": null,
            "overflow_y": null,
            "overflow_x": null,
            "grid_auto_flow": null,
            "grid_area": null,
            "grid_template_columns": null,
            "flex": null,
            "_model_name": "LayoutModel",
            "justify_items": null,
            "grid_row": null,
            "max_height": null,
            "align_content": null,
            "visibility": null,
            "align_self": null,
            "height": null,
            "min_height": null,
            "padding": null,
            "grid_auto_rows": null,
            "grid_gap": null,
            "max_width": null,
            "order": null,
            "_view_module_version": "1.2.0",
            "grid_template_areas": null,
            "object_position": null,
            "object_fit": null,
            "grid_auto_columns": null,
            "margin": null,
            "display": null,
            "left": null
          }
        },
        "ed29f13cbe8c430c8a125226ab7eb781": {
          "model_module": "@jupyter-widgets/controls",
          "model_name": "DescriptionStyleModel",
          "state": {
            "_view_name": "StyleView",
            "_model_name": "DescriptionStyleModel",
            "description_width": "",
            "_view_module": "@jupyter-widgets/base",
            "_model_module_version": "1.5.0",
            "_view_count": null,
            "_view_module_version": "1.2.0",
            "_model_module": "@jupyter-widgets/controls"
          }
        },
        "8b1635d05571452f80666c8d3d67dd60": {
          "model_module": "@jupyter-widgets/base",
          "model_name": "LayoutModel",
          "state": {
            "_view_name": "LayoutView",
            "grid_template_rows": null,
            "right": null,
            "justify_content": null,
            "_view_module": "@jupyter-widgets/base",
            "overflow": null,
            "_model_module_version": "1.2.0",
            "_view_count": null,
            "flex_flow": null,
            "width": null,
            "min_width": null,
            "border": null,
            "align_items": null,
            "bottom": null,
            "_model_module": "@jupyter-widgets/base",
            "top": null,
            "grid_column": null,
            "overflow_y": null,
            "overflow_x": null,
            "grid_auto_flow": null,
            "grid_area": null,
            "grid_template_columns": null,
            "flex": null,
            "_model_name": "LayoutModel",
            "justify_items": null,
            "grid_row": null,
            "max_height": null,
            "align_content": null,
            "visibility": null,
            "align_self": null,
            "height": null,
            "min_height": null,
            "padding": null,
            "grid_auto_rows": null,
            "grid_gap": null,
            "max_width": null,
            "order": null,
            "_view_module_version": "1.2.0",
            "grid_template_areas": null,
            "object_position": null,
            "object_fit": null,
            "grid_auto_columns": null,
            "margin": null,
            "display": null,
            "left": null
          }
        },
        "105a0fe5cbfb4a9fab45f1bfaf936b00": {
          "model_module": "@jupyter-widgets/controls",
          "model_name": "HBoxModel",
          "state": {
            "_view_name": "HBoxView",
            "_dom_classes": [],
            "_model_name": "HBoxModel",
            "_view_module": "@jupyter-widgets/controls",
            "_model_module_version": "1.5.0",
            "_view_count": null,
            "_view_module_version": "1.5.0",
            "box_style": "",
            "layout": "IPY_MODEL_18f0a032ec7e4143b2d43cefac6f383c",
            "_model_module": "@jupyter-widgets/controls",
            "children": [
              "IPY_MODEL_a434f895d0f1435b9bfe4eb57f072c85",
              "IPY_MODEL_d3c3e2bef9844e56bbfa3cf70a21b26b"
            ]
          }
        },
        "18f0a032ec7e4143b2d43cefac6f383c": {
          "model_module": "@jupyter-widgets/base",
          "model_name": "LayoutModel",
          "state": {
            "_view_name": "LayoutView",
            "grid_template_rows": null,
            "right": null,
            "justify_content": null,
            "_view_module": "@jupyter-widgets/base",
            "overflow": null,
            "_model_module_version": "1.2.0",
            "_view_count": null,
            "flex_flow": null,
            "width": null,
            "min_width": null,
            "border": null,
            "align_items": null,
            "bottom": null,
            "_model_module": "@jupyter-widgets/base",
            "top": null,
            "grid_column": null,
            "overflow_y": null,
            "overflow_x": null,
            "grid_auto_flow": null,
            "grid_area": null,
            "grid_template_columns": null,
            "flex": null,
            "_model_name": "LayoutModel",
            "justify_items": null,
            "grid_row": null,
            "max_height": null,
            "align_content": null,
            "visibility": null,
            "align_self": null,
            "height": null,
            "min_height": null,
            "padding": null,
            "grid_auto_rows": null,
            "grid_gap": null,
            "max_width": null,
            "order": null,
            "_view_module_version": "1.2.0",
            "grid_template_areas": null,
            "object_position": null,
            "object_fit": null,
            "grid_auto_columns": null,
            "margin": null,
            "display": null,
            "left": null
          }
        },
        "a434f895d0f1435b9bfe4eb57f072c85": {
          "model_module": "@jupyter-widgets/controls",
          "model_name": "FloatProgressModel",
          "state": {
            "_view_name": "ProgressView",
            "style": "IPY_MODEL_ef29498e45c24261a8853987be8a9b91",
            "_dom_classes": [],
            "description": "100%",
            "_model_name": "FloatProgressModel",
            "bar_style": "success",
            "max": 87554,
            "_view_module": "@jupyter-widgets/controls",
            "_model_module_version": "1.5.0",
            "value": 87554,
            "_view_count": null,
            "_view_module_version": "1.5.0",
            "orientation": "horizontal",
            "min": 0,
            "description_tooltip": null,
            "_model_module": "@jupyter-widgets/controls",
            "layout": "IPY_MODEL_41aca0e25e0746b1a0b53878e2d6bc5d"
          }
        },
        "d3c3e2bef9844e56bbfa3cf70a21b26b": {
          "model_module": "@jupyter-widgets/controls",
          "model_name": "HTMLModel",
          "state": {
            "_view_name": "HTMLView",
            "style": "IPY_MODEL_f12d47b0f34c4736b270193701ae3930",
            "_dom_classes": [],
            "description": "",
            "_model_name": "HTMLModel",
            "placeholder": "​",
            "_view_module": "@jupyter-widgets/controls",
            "_model_module_version": "1.5.0",
            "value": " 87554/87554 [17:56&lt;00:00, 81.31it/s]",
            "_view_count": null,
            "_view_module_version": "1.5.0",
            "description_tooltip": null,
            "_model_module": "@jupyter-widgets/controls",
            "layout": "IPY_MODEL_a2666ca58f0e427db205f3f366bb4be1"
          }
        },
        "ef29498e45c24261a8853987be8a9b91": {
          "model_module": "@jupyter-widgets/controls",
          "model_name": "ProgressStyleModel",
          "state": {
            "_view_name": "StyleView",
            "_model_name": "ProgressStyleModel",
            "description_width": "initial",
            "_view_module": "@jupyter-widgets/base",
            "_model_module_version": "1.5.0",
            "_view_count": null,
            "_view_module_version": "1.2.0",
            "bar_color": null,
            "_model_module": "@jupyter-widgets/controls"
          }
        },
        "41aca0e25e0746b1a0b53878e2d6bc5d": {
          "model_module": "@jupyter-widgets/base",
          "model_name": "LayoutModel",
          "state": {
            "_view_name": "LayoutView",
            "grid_template_rows": null,
            "right": null,
            "justify_content": null,
            "_view_module": "@jupyter-widgets/base",
            "overflow": null,
            "_model_module_version": "1.2.0",
            "_view_count": null,
            "flex_flow": null,
            "width": null,
            "min_width": null,
            "border": null,
            "align_items": null,
            "bottom": null,
            "_model_module": "@jupyter-widgets/base",
            "top": null,
            "grid_column": null,
            "overflow_y": null,
            "overflow_x": null,
            "grid_auto_flow": null,
            "grid_area": null,
            "grid_template_columns": null,
            "flex": null,
            "_model_name": "LayoutModel",
            "justify_items": null,
            "grid_row": null,
            "max_height": null,
            "align_content": null,
            "visibility": null,
            "align_self": null,
            "height": null,
            "min_height": null,
            "padding": null,
            "grid_auto_rows": null,
            "grid_gap": null,
            "max_width": null,
            "order": null,
            "_view_module_version": "1.2.0",
            "grid_template_areas": null,
            "object_position": null,
            "object_fit": null,
            "grid_auto_columns": null,
            "margin": null,
            "display": null,
            "left": null
          }
        },
        "f12d47b0f34c4736b270193701ae3930": {
          "model_module": "@jupyter-widgets/controls",
          "model_name": "DescriptionStyleModel",
          "state": {
            "_view_name": "StyleView",
            "_model_name": "DescriptionStyleModel",
            "description_width": "",
            "_view_module": "@jupyter-widgets/base",
            "_model_module_version": "1.5.0",
            "_view_count": null,
            "_view_module_version": "1.2.0",
            "_model_module": "@jupyter-widgets/controls"
          }
        },
        "a2666ca58f0e427db205f3f366bb4be1": {
          "model_module": "@jupyter-widgets/base",
          "model_name": "LayoutModel",
          "state": {
            "_view_name": "LayoutView",
            "grid_template_rows": null,
            "right": null,
            "justify_content": null,
            "_view_module": "@jupyter-widgets/base",
            "overflow": null,
            "_model_module_version": "1.2.0",
            "_view_count": null,
            "flex_flow": null,
            "width": null,
            "min_width": null,
            "border": null,
            "align_items": null,
            "bottom": null,
            "_model_module": "@jupyter-widgets/base",
            "top": null,
            "grid_column": null,
            "overflow_y": null,
            "overflow_x": null,
            "grid_auto_flow": null,
            "grid_area": null,
            "grid_template_columns": null,
            "flex": null,
            "_model_name": "LayoutModel",
            "justify_items": null,
            "grid_row": null,
            "max_height": null,
            "align_content": null,
            "visibility": null,
            "align_self": null,
            "height": null,
            "min_height": null,
            "padding": null,
            "grid_auto_rows": null,
            "grid_gap": null,
            "max_width": null,
            "order": null,
            "_view_module_version": "1.2.0",
            "grid_template_areas": null,
            "object_position": null,
            "object_fit": null,
            "grid_auto_columns": null,
            "margin": null,
            "display": null,
            "left": null
          }
        },
        "d25104af2ac84f3fb5e0646a882bec56": {
          "model_module": "@jupyter-widgets/controls",
          "model_name": "HBoxModel",
          "state": {
            "_view_name": "HBoxView",
            "_dom_classes": [],
            "_model_name": "HBoxModel",
            "_view_module": "@jupyter-widgets/controls",
            "_model_module_version": "1.5.0",
            "_view_count": null,
            "_view_module_version": "1.5.0",
            "box_style": "",
            "layout": "IPY_MODEL_90f469b9357a4917be5533cd03ce8e2f",
            "_model_module": "@jupyter-widgets/controls",
            "children": [
              "IPY_MODEL_86f541520a8e4aa49f35c18435dea018",
              "IPY_MODEL_3a0798fa8cf54c6199f412b2c827b933"
            ]
          }
        },
        "90f469b9357a4917be5533cd03ce8e2f": {
          "model_module": "@jupyter-widgets/base",
          "model_name": "LayoutModel",
          "state": {
            "_view_name": "LayoutView",
            "grid_template_rows": null,
            "right": null,
            "justify_content": null,
            "_view_module": "@jupyter-widgets/base",
            "overflow": null,
            "_model_module_version": "1.2.0",
            "_view_count": null,
            "flex_flow": null,
            "width": null,
            "min_width": null,
            "border": null,
            "align_items": null,
            "bottom": null,
            "_model_module": "@jupyter-widgets/base",
            "top": null,
            "grid_column": null,
            "overflow_y": null,
            "overflow_x": null,
            "grid_auto_flow": null,
            "grid_area": null,
            "grid_template_columns": null,
            "flex": null,
            "_model_name": "LayoutModel",
            "justify_items": null,
            "grid_row": null,
            "max_height": null,
            "align_content": null,
            "visibility": null,
            "align_self": null,
            "height": null,
            "min_height": null,
            "padding": null,
            "grid_auto_rows": null,
            "grid_gap": null,
            "max_width": null,
            "order": null,
            "_view_module_version": "1.2.0",
            "grid_template_areas": null,
            "object_position": null,
            "object_fit": null,
            "grid_auto_columns": null,
            "margin": null,
            "display": null,
            "left": null
          }
        },
        "86f541520a8e4aa49f35c18435dea018": {
          "model_module": "@jupyter-widgets/controls",
          "model_name": "FloatProgressModel",
          "state": {
            "_view_name": "ProgressView",
            "style": "IPY_MODEL_de5a6b814ebb4f31bf3f0955a9895363",
            "_dom_classes": [],
            "description": "100%",
            "_model_name": "FloatProgressModel",
            "bar_style": "success",
            "max": 1,
            "_view_module": "@jupyter-widgets/controls",
            "_model_module_version": "1.5.0",
            "value": 1,
            "_view_count": null,
            "_view_module_version": "1.5.0",
            "orientation": "horizontal",
            "min": 0,
            "description_tooltip": null,
            "_model_module": "@jupyter-widgets/controls",
            "layout": "IPY_MODEL_7c68fbb8eea746a8b5a130e69a9a41ed"
          }
        },
        "3a0798fa8cf54c6199f412b2c827b933": {
          "model_module": "@jupyter-widgets/controls",
          "model_name": "HTMLModel",
          "state": {
            "_view_name": "HTMLView",
            "style": "IPY_MODEL_0f9ab29e23f241d991a059a0c7f84953",
            "_dom_classes": [],
            "description": "",
            "_model_name": "HTMLModel",
            "placeholder": "​",
            "_view_module": "@jupyter-widgets/controls",
            "_model_module_version": "1.5.0",
            "value": " 1/1 [00:00&lt;00:00, 10.90it/s]",
            "_view_count": null,
            "_view_module_version": "1.5.0",
            "description_tooltip": null,
            "_model_module": "@jupyter-widgets/controls",
            "layout": "IPY_MODEL_055bb3f2738a4f299059f08b792c9afa"
          }
        },
        "de5a6b814ebb4f31bf3f0955a9895363": {
          "model_module": "@jupyter-widgets/controls",
          "model_name": "ProgressStyleModel",
          "state": {
            "_view_name": "StyleView",
            "_model_name": "ProgressStyleModel",
            "description_width": "initial",
            "_view_module": "@jupyter-widgets/base",
            "_model_module_version": "1.5.0",
            "_view_count": null,
            "_view_module_version": "1.2.0",
            "bar_color": null,
            "_model_module": "@jupyter-widgets/controls"
          }
        },
        "7c68fbb8eea746a8b5a130e69a9a41ed": {
          "model_module": "@jupyter-widgets/base",
          "model_name": "LayoutModel",
          "state": {
            "_view_name": "LayoutView",
            "grid_template_rows": null,
            "right": null,
            "justify_content": null,
            "_view_module": "@jupyter-widgets/base",
            "overflow": null,
            "_model_module_version": "1.2.0",
            "_view_count": null,
            "flex_flow": null,
            "width": null,
            "min_width": null,
            "border": null,
            "align_items": null,
            "bottom": null,
            "_model_module": "@jupyter-widgets/base",
            "top": null,
            "grid_column": null,
            "overflow_y": null,
            "overflow_x": null,
            "grid_auto_flow": null,
            "grid_area": null,
            "grid_template_columns": null,
            "flex": null,
            "_model_name": "LayoutModel",
            "justify_items": null,
            "grid_row": null,
            "max_height": null,
            "align_content": null,
            "visibility": null,
            "align_self": null,
            "height": null,
            "min_height": null,
            "padding": null,
            "grid_auto_rows": null,
            "grid_gap": null,
            "max_width": null,
            "order": null,
            "_view_module_version": "1.2.0",
            "grid_template_areas": null,
            "object_position": null,
            "object_fit": null,
            "grid_auto_columns": null,
            "margin": null,
            "display": null,
            "left": null
          }
        },
        "0f9ab29e23f241d991a059a0c7f84953": {
          "model_module": "@jupyter-widgets/controls",
          "model_name": "DescriptionStyleModel",
          "state": {
            "_view_name": "StyleView",
            "_model_name": "DescriptionStyleModel",
            "description_width": "",
            "_view_module": "@jupyter-widgets/base",
            "_model_module_version": "1.5.0",
            "_view_count": null,
            "_view_module_version": "1.2.0",
            "_model_module": "@jupyter-widgets/controls"
          }
        },
        "055bb3f2738a4f299059f08b792c9afa": {
          "model_module": "@jupyter-widgets/base",
          "model_name": "LayoutModel",
          "state": {
            "_view_name": "LayoutView",
            "grid_template_rows": null,
            "right": null,
            "justify_content": null,
            "_view_module": "@jupyter-widgets/base",
            "overflow": null,
            "_model_module_version": "1.2.0",
            "_view_count": null,
            "flex_flow": null,
            "width": null,
            "min_width": null,
            "border": null,
            "align_items": null,
            "bottom": null,
            "_model_module": "@jupyter-widgets/base",
            "top": null,
            "grid_column": null,
            "overflow_y": null,
            "overflow_x": null,
            "grid_auto_flow": null,
            "grid_area": null,
            "grid_template_columns": null,
            "flex": null,
            "_model_name": "LayoutModel",
            "justify_items": null,
            "grid_row": null,
            "max_height": null,
            "align_content": null,
            "visibility": null,
            "align_self": null,
            "height": null,
            "min_height": null,
            "padding": null,
            "grid_auto_rows": null,
            "grid_gap": null,
            "max_width": null,
            "order": null,
            "_view_module_version": "1.2.0",
            "grid_template_areas": null,
            "object_position": null,
            "object_fit": null,
            "grid_auto_columns": null,
            "margin": null,
            "display": null,
            "left": null
          }
        }
      }
    }
  },
  "cells": [
    {
      "cell_type": "code",
      "metadata": {
        "id": "NdWIUwaNWwVW",
        "colab_type": "code",
        "colab": {
          "base_uri": "https://localhost:8080/",
          "height": 51
        },
        "outputId": "ad3205c1-406d-49a1-cf4a-3611ceef37ea"
      },
      "source": [
        "import pandas as pd\n",
        "import matplotlib.pyplot as plt\n",
        "import numpy as np\n",
        "import seaborn as sns\n",
        "from tqdm.notebook import tqdm\n",
        "import gc\n",
        "\n",
        "import tensorflow as tf\n",
        "from keras import backend as K\n",
        "from tensorflow.keras.layers import *\n",
        "from tensorflow.keras.models import *\n",
        "\n",
        "from tensorflow.keras.callbacks import LearningRateScheduler\n",
        "from sklearn.model_selection import train_test_split"
      ],
      "execution_count": null,
      "outputs": [
        {
          "output_type": "stream",
          "text": [
            "/usr/local/lib/python3.6/dist-packages/statsmodels/tools/_testing.py:19: FutureWarning: pandas.util.testing is deprecated. Use the functions in the public API at pandas.testing instead.\n",
            "  import pandas.util.testing as tm\n"
          ],
          "name": "stderr"
        }
      ]
    },
    {
      "cell_type": "code",
      "metadata": {
        "id": "I6qqAcpXW1cC",
        "colab_type": "code",
        "colab": {
          "base_uri": "https://localhost:8080/",
          "height": 85
        },
        "outputId": "9eedd453-0583-46e1-c393-3b0947c230ac"
      },
      "source": [
        "!curl -L https://anaconda.org/conda-forge/gudhi/3.1.1/download/linux-64/gudhi-3.1.1-py36hd3ef239_1.tar.bz2 | tar xj\n",
        "!mv lib/python3.6/site-packages/* /usr/local/lib/python3.6/dist-packages/\n",
        "import gudhi"
      ],
      "execution_count": null,
      "outputs": [
        {
          "output_type": "stream",
          "text": [
            "  % Total    % Received % Xferd  Average Speed   Time    Time     Time  Current\n",
            "                                 Dload  Upload   Total   Spent    Left  Speed\n",
            "100  3733    0  3733    0     0   7220      0 --:--:-- --:--:-- --:--:--  7206\n",
            "100 3217k  100 3217k    0     0  1866k      0  0:00:01  0:00:01 --:--:-- 4923k\n"
          ],
          "name": "stdout"
        }
      ]
    },
    {
      "cell_type": "markdown",
      "metadata": {
        "id": "El1HI8DHW7yz",
        "colab_type": "text"
      },
      "source": [
        "# Load Dataset"
      ]
    },
    {
      "cell_type": "code",
      "metadata": {
        "id": "NHSbJeC5W27_",
        "colab_type": "code",
        "colab": {
          "base_uri": "https://localhost:8080/",
          "height": 425
        },
        "outputId": "5fcda5d9-9d71-43c4-e686-cd84ef5c101e"
      },
      "source": [
        "!pip install kaggle\n",
        "api_token = {\"username\":\"ignasisanchez\",\"key\":\"79ae11ad5532231e882297d5df83de82\"}\n",
        "import json\n",
        "import zipfile\n",
        "import os\n",
        "!mkdir /root/.kaggle\n",
        "!echo '{\"username\":\"ignasisanchez\",\"key\":\"79ae11ad5532231e882297d5df83de82\"}' > /root/.kaggle/kaggle.json\n",
        "!chmod 600 /content/.kaggle/kaggle.json\n",
        "!kaggle config path -p /content\n",
        "!kaggle datasets download -d shayanfazeli/heartbeat\n",
        "!unzip heartbeat.zip"
      ],
      "execution_count": null,
      "outputs": [
        {
          "output_type": "stream",
          "text": [
            "Requirement already satisfied: kaggle in /usr/local/lib/python3.6/dist-packages (1.5.6)\n",
            "Requirement already satisfied: python-dateutil in /usr/local/lib/python3.6/dist-packages (from kaggle) (2.8.1)\n",
            "Requirement already satisfied: certifi in /usr/local/lib/python3.6/dist-packages (from kaggle) (2020.6.20)\n",
            "Requirement already satisfied: six>=1.10 in /usr/local/lib/python3.6/dist-packages (from kaggle) (1.15.0)\n",
            "Requirement already satisfied: tqdm in /usr/local/lib/python3.6/dist-packages (from kaggle) (4.41.1)\n",
            "Requirement already satisfied: python-slugify in /usr/local/lib/python3.6/dist-packages (from kaggle) (4.0.1)\n",
            "Requirement already satisfied: requests in /usr/local/lib/python3.6/dist-packages (from kaggle) (2.23.0)\n",
            "Requirement already satisfied: urllib3<1.25,>=1.21.1 in /usr/local/lib/python3.6/dist-packages (from kaggle) (1.24.3)\n",
            "Requirement already satisfied: text-unidecode>=1.3 in /usr/local/lib/python3.6/dist-packages (from python-slugify->kaggle) (1.3)\n",
            "Requirement already satisfied: idna<3,>=2.5 in /usr/local/lib/python3.6/dist-packages (from requests->kaggle) (2.10)\n",
            "Requirement already satisfied: chardet<4,>=3.0.2 in /usr/local/lib/python3.6/dist-packages (from requests->kaggle) (3.0.4)\n",
            "chmod: cannot access '/content/.kaggle/kaggle.json': No such file or directory\n",
            "Warning: Your Kaggle API key is readable by other users on this system! To fix this, you can run 'chmod 600 /root/.kaggle/kaggle.json'\n",
            "usage: kaggle config [-h] {view,set,unset} ...\n",
            "kaggle config: error: argument command: invalid choice: 'path' (choose from 'view', 'set', 'unset')\n",
            "Warning: Your Kaggle API key is readable by other users on this system! To fix this, you can run 'chmod 600 /root/.kaggle/kaggle.json'\n",
            "Downloading heartbeat.zip to /content\n",
            " 82% 81.0M/98.8M [00:01<00:00, 45.9MB/s]\n",
            "100% 98.8M/98.8M [00:01<00:00, 78.7MB/s]\n",
            "Archive:  heartbeat.zip\n",
            "  inflating: mitbih_test.csv         \n",
            "  inflating: mitbih_train.csv        \n",
            "  inflating: ptbdb_abnormal.csv      \n",
            "  inflating: ptbdb_normal.csv        \n"
          ],
          "name": "stdout"
        }
      ]
    },
    {
      "cell_type": "code",
      "metadata": {
        "id": "anjTTM8N44Cj",
        "colab_type": "code",
        "colab": {}
      },
      "source": [
        "data=pd.read_csv('mitbih_train.csv', header=None)\n",
        "\n",
        "X = data[data.columns.values[:-1]]\n",
        "y = data[data.columns.values[-1]]"
      ],
      "execution_count": null,
      "outputs": []
    },
    {
      "cell_type": "markdown",
      "metadata": {
        "id": "BsReHFf3XEK-",
        "colab_type": "text"
      },
      "source": [
        "# Functions"
      ]
    },
    {
      "cell_type": "markdown",
      "metadata": {
        "id": "B7Bu2PpTaZP0",
        "colab_type": "text"
      },
      "source": [
        "It is important to execute these cells to be able to execute the code that follows. These functions are for computing the different data representations that will be fed to the networks. The scheduler that will be used for the networks is also coded here."
      ]
    },
    {
      "cell_type": "code",
      "metadata": {
        "id": "CupGtJO-XChX",
        "colab_type": "code",
        "colab": {}
      },
      "source": [
        "def getPersistence(vec, num_points=100, clean=True):\n",
        "  \"\"\"\n",
        "  This transforms the 1D time series vec into a persistence diagram.\n",
        "  \"\"\"\n",
        "  simplex_up = gudhi.SimplexTree()\n",
        "  simplex_dw = gudhi.SimplexTree()\n",
        "  # Fullfill the simplexes\n",
        "  for i in np.arange(len(vec)): \n",
        "    simplex_up.insert([i], filtration=vec[i])\n",
        "    simplex_dw.insert([i], filtration=-vec[i])\n",
        "  for i in np.arange(len(vec)-1): \n",
        "    simplex_up.insert([i, i+1], filtration=vec[i])\n",
        "    simplex_dw.insert([i, i+1], filtration=-vec[i])\n",
        "  # Initialize the filtrations\n",
        "  simplex_up.initialize_filtration()\n",
        "  simplex_dw.initialize_filtration()\n",
        "\n",
        "\n",
        "  dig_up = simplex_up.persistence()\n",
        "  dig_dw = simplex_dw.persistence()\n",
        "\n",
        "  if clean:\n",
        "    dig_up = np.asarray([[ele[1][0], ele[1][1]] for ele in dig_up if ele[1][1] < np.inf])\n",
        "    dig_dw = np.asarray([[ele[1][0], ele[1][1]] for ele in dig_dw if ele[1][1] < np.inf])\n",
        "\n",
        "  return dig_up, dig_dw, simplex_up, simplex_dw"
      ],
      "execution_count": null,
      "outputs": []
    },
    {
      "cell_type": "code",
      "metadata": {
        "id": "mu7Y-DcjXHgw",
        "colab_type": "code",
        "colab": {}
      },
      "source": [
        "def to_betti(vec, num_points=100):\n",
        "  \"\"\"\n",
        "  This transforms the 1D time series vec into a betti curve with 100 points.\n",
        "  No down simplex\n",
        "  \"\"\"\n",
        "  dig_up, dig_dw, simplex_up, simplex_dw = getPersistence(vec, num_points, clean=True)\n",
        "\n",
        "  mnu, mxu = np.min(dig_up), np.max(dig_up)\n",
        "  #mnd, mxd = np.min(dig_dw), np.max(dig_dw)\n",
        "\n",
        "  v,w = np.zeros(num_points), np.zeros(num_points)\n",
        "\n",
        "  def functionize(val, descriptor):\n",
        "    def dirichlet(x):\n",
        "      return 1 if (x > descriptor[0]) and (x < descriptor[1]) else 0\n",
        "\n",
        "    return np.vectorize(dirichlet)(val)\n",
        "\n",
        "  val_up = np.linspace(mnu, mxu, num=num_points)\n",
        "  #val_dw = np.linspace(mnd, mxd, num=num_points)\n",
        "\n",
        "  for ele in dig_up: v += functionize(val_up, ele)\n",
        "  #for ele in dig_dw: w += functionize(val_dw, ele)\n",
        "\n",
        "  #return np.hstack([v, w])\n",
        "  return v"
      ],
      "execution_count": null,
      "outputs": []
    },
    {
      "cell_type": "code",
      "metadata": {
        "id": "O4_37J85XK7J",
        "colab_type": "code",
        "colab": {}
      },
      "source": [
        "# http://bertrand.michel.perso.math.cnrs.fr/Enseignements/TDA/Tuto-Part4.html\n",
        "# http://bertrand.michel.perso.math.cnrs.fr/Enseignements/TDA/persistence_graphical_tools_Bertrand.py\n",
        "def landscapes_approx(diag_dim,x_min,x_max,nb_steps,nb_landscapes):\n",
        "  \"\"\"\n",
        "  Returns nb_landscapes. Same as gudhi implementation\n",
        "  \"\"\"\n",
        "  landscape = np.zeros((nb_landscapes,nb_steps))\n",
        "  step = (x_max - x_min) / nb_steps\n",
        "  #Warning: naive and not the best way to proceed!!!!!\n",
        "  for i in range(nb_steps):\n",
        "    x = x_min + i * step\n",
        "    event_list = []\n",
        "    for pair in diag_dim:\n",
        "      b = pair[0]\n",
        "      d = pair[1]\n",
        "      if (b <= x) and (x<= d):\n",
        "        if x >= (d+b)/2. :\n",
        "          event_list.append((d-x))\n",
        "        else:\n",
        "          event_list.append((x-b))\n",
        "    event_list.sort(reverse=True)\n",
        "    event_list = np.asarray(event_list)\n",
        "    for j in range(nb_landscapes):\n",
        "      if(j<len(event_list)):\n",
        "        landscape[j,i]=event_list[j]\n",
        "        \n",
        "  return landscape"
      ],
      "execution_count": null,
      "outputs": []
    },
    {
      "cell_type": "code",
      "metadata": {
        "id": "YmjOfUY1aWxl",
        "colab_type": "code",
        "colab": {}
      },
      "source": [
        "def scheduler(epoch):\n",
        "  if epoch == 100:\n",
        "      K.set_value(model.optimizer.learning_rate, model.optimizer.learning_rate/5)\n",
        "  elif epoch == 200:\n",
        "      K.set_value(model.optimizer.learning_rate, model.optimizer.learning_rate/5)\n",
        "  return K.get_value(model.optimizer.learning_rate)"
      ],
      "execution_count": null,
      "outputs": []
    },
    {
      "cell_type": "markdown",
      "metadata": {
        "id": "EALrdQjMYhgt",
        "colab_type": "text"
      },
      "source": [
        "# Landscape levels"
      ]
    },
    {
      "cell_type": "markdown",
      "metadata": {
        "id": "tyjUFjbmaG1V",
        "colab_type": "text"
      },
      "source": [
        "It is important to always execute the cells under this section to be able to use any of the Neural Networks coded before. These cells prepare the data for the following networks. "
      ]
    },
    {
      "cell_type": "markdown",
      "metadata": {
        "id": "xtsBWAWOnpcd",
        "colab_type": "text"
      },
      "source": [
        "## Prepare data"
      ]
    },
    {
      "cell_type": "code",
      "metadata": {
        "id": "BFp_9KKWYkeT",
        "colab_type": "code",
        "colab": {
          "base_uri": "https://localhost:8080/",
          "height": 115,
          "referenced_widgets": [
            "8aa8d4d96a704469b2341a8f51011bfd",
            "e0ff0f0cada746e1b502568930a4b818",
            "130a2fa891ed493c848ee007eef00b7f",
            "06340efecfb049038aa6d4d94fad7d8c",
            "b7a8169b997a4effa67b027ae9edc730",
            "a5a2e8e6be324743ac47b48edf87796c",
            "2170124f8f6e414697debc3c6eb839ca",
            "662b72104957482e98d172acc37ee981",
            "9e75d21a1efb41b889b0b16c2bf231d6",
            "608dff4720614eee815bea6acdbea314",
            "07e0b84401ec493bbebb433ca8a3143e",
            "55988f3fa03c4c7bb06dadfcbabd3274",
            "9c7ae29a962a4bd6b4a32c0939ce9ea8",
            "cba909542e8043abb6d99ffbf38a5cf8",
            "b74f2cbbe7034d60a1bd79f4b585425d",
            "843b6caa173c432e8fbe5af3d072c6db"
          ]
        },
        "outputId": "5a88163b-4e36-4a12-f492-2adcda2316c4"
      },
      "source": [
        "persistence = [getPersistence(X.iloc[i].to_numpy(), num_points=100, clean=False) for i in tqdm(range(X.shape[0]))]\n",
        "diag = [x[0] for x in persistence]\n",
        "\n",
        "nbld =  10# number of Landscapes\n",
        "resolution = 70 ## CHANGE THIS NUMBER DEPENDING ON THE MEMORY THAT YOU CAN USE\n",
        "length_max = 1\n",
        "length_min = 0\n",
        "ld_dim = 0 # landscape dim\n",
        "\n",
        "L = [ landscapes_approx([x[1] for x in y[1:]], length_min, length_max, resolution,nbld) for y in tqdm(diag) ]"
      ],
      "execution_count": null,
      "outputs": [
        {
          "output_type": "display_data",
          "data": {
            "application/vnd.jupyter.widget-view+json": {
              "model_id": "8aa8d4d96a704469b2341a8f51011bfd",
              "version_minor": 0,
              "version_major": 2
            },
            "text/plain": [
              "HBox(children=(FloatProgress(value=0.0, max=87554.0), HTML(value='')))"
            ]
          },
          "metadata": {
            "tags": []
          }
        },
        {
          "output_type": "stream",
          "text": [
            "\n"
          ],
          "name": "stdout"
        },
        {
          "output_type": "display_data",
          "data": {
            "application/vnd.jupyter.widget-view+json": {
              "model_id": "9e75d21a1efb41b889b0b16c2bf231d6",
              "version_minor": 0,
              "version_major": 2
            },
            "text/plain": [
              "HBox(children=(FloatProgress(value=0.0, max=87554.0), HTML(value='')))"
            ]
          },
          "metadata": {
            "tags": []
          }
        },
        {
          "output_type": "stream",
          "text": [
            "\n"
          ],
          "name": "stdout"
        }
      ]
    },
    {
      "cell_type": "code",
      "metadata": {
        "id": "24YEABoPbg5u",
        "colab_type": "code",
        "colab": {}
      },
      "source": [
        "y_keras = y.copy()\n",
        "y_keras = pd.get_dummies(y_keras)\n",
        "LL = np.array(L)\n",
        "del L"
      ],
      "execution_count": null,
      "outputs": []
    },
    {
      "cell_type": "markdown",
      "metadata": {
        "id": "M_uJuNgOoOM_",
        "colab_type": "text"
      },
      "source": [
        "## Normalize area under landscapes"
      ]
    },
    {
      "cell_type": "code",
      "metadata": {
        "id": "BCxCIKaVaQRi",
        "colab_type": "code",
        "colab": {
          "base_uri": "https://localhost:8080/",
          "height": 83,
          "referenced_widgets": [
            "81c8dd9417f144c1be7e102b023238f9",
            "4ff6f13ec3e24cf1a0738563200a4b4d",
            "8cf2c89cbec146919b6f67bfae5be24e",
            "c7da88f7c02b4467b7bb9ee1794a89a7",
            "8dbb35b70b2c43a3a91938969e76f014",
            "ce5f5b6dc2564d89b41315e76545360a",
            "6c8838be461d4b1d8cca6eb9e2be8c48",
            "bc1c828309c14b83a00a2bf950d732f5"
          ]
        },
        "outputId": "d3ba23c2-9ba4-4fbc-e537-f279db632e84"
      },
      "source": [
        "import sklearn.metrics\n",
        "x = np.linspace(0,length_max, num=resolution)\n",
        "\n",
        "for i in tqdm(range(LL.shape[0])):\n",
        "  for j in range(LL.shape[1]):\n",
        "    auc = sklearn.metrics.auc(x, LL[i, j, :])\n",
        "    if np.abs(auc) > 1e-6:\n",
        "      LL[i, j, :] = LL[i, j, :] / auc \n",
        "    \n",
        "LL.shape"
      ],
      "execution_count": null,
      "outputs": [
        {
          "output_type": "display_data",
          "data": {
            "application/vnd.jupyter.widget-view+json": {
              "model_id": "81c8dd9417f144c1be7e102b023238f9",
              "version_minor": 0,
              "version_major": 2
            },
            "text/plain": [
              "HBox(children=(FloatProgress(value=0.0, max=87554.0), HTML(value='')))"
            ]
          },
          "metadata": {
            "tags": []
          }
        },
        {
          "output_type": "stream",
          "text": [
            "\n"
          ],
          "name": "stdout"
        },
        {
          "output_type": "execute_result",
          "data": {
            "text/plain": [
              "(87554, 10, 70)"
            ]
          },
          "metadata": {
            "tags": []
          },
          "execution_count": 10
        }
      ]
    },
    {
      "cell_type": "markdown",
      "metadata": {
        "id": "5w5UObHMcXYZ",
        "colab_type": "text"
      },
      "source": [
        "# Alternative CNN architecture with All Landscapes"
      ]
    },
    {
      "cell_type": "markdown",
      "metadata": {
        "id": "Sy4baNHzbbmL",
        "colab_type": "text"
      },
      "source": [
        "First experiment: propose a CNN architecture that will be fed all Landscapes as a new representation. A new layer (`GatingLayer`) is introduced: this layer serves the purpose to identify which landscapes are important). "
      ]
    },
    {
      "cell_type": "code",
      "metadata": {
        "id": "KUedUn-EcC4-",
        "colab_type": "code",
        "colab": {}
      },
      "source": [
        "class GatingLayer(Layer):\n",
        "    \n",
        "    def __init__(self):\n",
        "        super(GatingLayer,self).__init__()\n",
        "        \n",
        "    def build(self, input_shape):\n",
        "        \n",
        "        self.W=self.add_weight(name=\"custom_weight\", shape=(1,input_shape[1],1,1),\n",
        "                               initializer=\"normal\")\n",
        "        \n",
        "    def call(self, x):\n",
        "        \n",
        "        x = self.W*x \n",
        "        # apply a softmax if u want them non-negative and less than one otherwise ignore or change it\n",
        "        x = tf.reduce_sum(x, axis=1)\n",
        "                \n",
        "        return x"
      ],
      "execution_count": null,
      "outputs": []
    },
    {
      "cell_type": "code",
      "metadata": {
        "id": "i8LwStylcgGw",
        "colab_type": "code",
        "colab": {}
      },
      "source": [
        "history_train_acc =  []\n",
        "history_train_loss = []\n",
        "history_val_acc =  []\n",
        "history_val_loss = []\n",
        "\n",
        "for i in range(5):\n",
        "  X_train, X_test, y_train, y_test = train_test_split(LL, y_keras.to_numpy(), test_size=0.2, stratify=y)\n",
        "\n",
        "  X_train = X_train[:,:,:,np.newaxis]\n",
        "  X_test = X_test[:,:,:,np.newaxis]\n",
        "\n",
        "  X_train.shape\n",
        "  n_outputs = 5\n",
        "  batch_size = 64\n",
        "\n",
        "\n",
        "  model = Sequential()\n",
        "  model.add(InputLayer(input_shape=(nbld, resolution, 1)))\n",
        "\n",
        "  model.add(Dropout(0.25))\n",
        "  model.add(Conv2D(filters=64, kernel_size=3, activation='relu', padding='same', input_shape=(nbld, resolution, 1)))\n",
        "  model.add(MaxPooling2D(pool_size=(1,2)))\n",
        "\n",
        "\n",
        "  model.add(Conv2D(filters=32, kernel_size=3, activation='relu', padding='same'))\n",
        "  model.add(MaxPooling2D(pool_size=(1,2)))\n",
        "\n",
        "  model.add(Dropout(0.25))\n",
        "  model.add(Conv2D(filters=32, kernel_size=2, activation='relu', padding='same'))\n",
        "  model.add(MaxPooling2D(pool_size=(1,2)))\n",
        "\n",
        "  model.add(BatchNormalization())\n",
        "  #model.add(Conv2D(filters=64, kernel_size=3, activation='relu'))\n",
        "  #model.add(MaxPooling2D(pool_size=2))\n",
        "\n",
        "  model.add(Dropout(0.20))\n",
        "  model.add(GatingLayer())\n",
        "  model.add(Flatten())\n",
        "  model.add(Dense(100, activation='relu'))\n",
        "  model.add(Dense(n_outputs, activation='softmax', name=\"visualized_layer\"))\n",
        "  model.compile(loss='categorical_crossentropy', optimizer='sgd', metrics=['accuracy'])\n",
        "\n",
        "  model.summary()\n",
        "  change_lr = LearningRateScheduler(scheduler)\n",
        "  history = model.fit(x=X_train, y=y_train, epochs=300, validation_data=(X_test, y_test), callbacks=[change_lr])\n",
        "  history_train_acc.append(history.history['accuracy'])\n",
        "  history_train_loss.append(history.history['loss'])\n",
        "  history_val_acc.append(history.history['val_accuracy'])\n",
        "  history_val_loss.append(history.history['val_loss'])\n",
        "  K.clear_session()\n",
        "  del model, history, change_lr, X_train, X_test, y_train, y_test\n",
        "  gc.collect()\n",
        "  "
      ],
      "execution_count": null,
      "outputs": []
    },
    {
      "cell_type": "code",
      "metadata": {
        "id": "94ib3pWkc3LP",
        "colab_type": "code",
        "colab": {
          "base_uri": "https://localhost:8080/",
          "height": 867
        },
        "outputId": "f2d44eb9-b1c4-482f-abe1-edd349841136"
      },
      "source": [
        "history_train_acc =  np.array(history_train_acc)\n",
        "history_train_loss = np.array(history_train_loss)\n",
        "history_val_acc =  np.array(history_val_acc)\n",
        "history_val_loss = np.array(history_val_loss)\n",
        "\n",
        "train_acc_mean = np.mean(history_train_acc, axis=0)\n",
        "val_acc_mean = np.mean(history_val_acc, axis=0)\n",
        "train_loss_mean = np.mean(history_train_loss, axis=0)\n",
        "val_loss_mean = np.mean(history_val_loss, axis=0)\n",
        "\n",
        "fig, ax = plt.subplots(figsize=(12, 7))\n",
        "ax.plot(train_acc_mean, color='red')\n",
        "ax.plot(val_acc_mean, color='blue')\n",
        "ax.set_xlabel('Epochs')\n",
        "ax.set_ylabel('Accuracy')\n",
        "plt.grid()\n",
        "plt.show()\n",
        "\n",
        "fig, ax = plt.subplots(figsize=(12, 7))\n",
        "ax.plot(train_loss_mean, color='red')\n",
        "ax.plot(val_loss_mean, color='blue')\n",
        "ax.set_xlabel('Epochs')\n",
        "ax.set_ylabel('Loss')\n",
        "plt.grid()\n",
        "plt.show()\n",
        "\n",
        "print(\"Average accuracy on train: \", train_acc_mean[-1])\n",
        "print(\"Average accuracy on validation: \", val_acc_mean[-1])"
      ],
      "execution_count": null,
      "outputs": [
        {
          "output_type": "display_data",
          "data": {
            "image/png": "[encoded data removed]",
            "text/plain": [
              "<Figure size 864x504 with 1 Axes>"
            ]
          },
          "metadata": {
            "tags": [],
            "needs_background": "light"
          }
        },
        {
          "output_type": "display_data",
          "data": {
            "image/png": "[encoded data removed]",
            "text/plain": [
              "<Figure size 864x504 with 1 Axes>"
            ]
          },
          "metadata": {
            "tags": [],
            "needs_background": "light"
          }
        }
      ]
    },
    {
      "cell_type": "code",
      "metadata": {
        "id": "6KjXKHqzuPXN",
        "colab_type": "code",
        "colab": {
          "base_uri": "https://localhost:8080/",
          "height": 340
        },
        "outputId": "95e28ff0-7d10-425a-96d1-49e1c716960e"
      },
      "source": [
        "model.get_weights()[-5]"
      ],
      "execution_count": null,
      "outputs": [
        {
          "output_type": "execute_result",
          "data": {
            "text/plain": [
              "array([[[[0.7263808 ]],\n",
              "\n",
              "        [[0.7094884 ]],\n",
              "\n",
              "        [[0.5945609 ]],\n",
              "\n",
              "        [[0.22240159]],\n",
              "\n",
              "        [[0.13683742]],\n",
              "\n",
              "        [[0.108706  ]],\n",
              "\n",
              "        [[0.09710547]],\n",
              "\n",
              "        [[0.06976306]],\n",
              "\n",
              "        [[0.03708745]],\n",
              "\n",
              "        [[0.10332906]]]], dtype=float32)"
            ]
          },
          "metadata": {
            "tags": []
          },
          "execution_count": 17
        }
      ]
    },
    {
      "cell_type": "code",
      "metadata": {
        "id": "IeGN1KyRdzA1",
        "colab_type": "code",
        "colab": {
          "base_uri": "https://localhost:8080/",
          "height": 350
        },
        "outputId": "d7e8cace-294c-4dae-b462-f511bb70deae"
      },
      "source": [
        "y_hat = model.predict(X_test)\n",
        "y_hat_pred = np.array([np.argmax(x) for x in y_hat])\n",
        "y_test_num = np.array([np.argmax(x) for x in y_test])\n",
        "from sklearn.metrics import confusion_matrix\n",
        "conf = confusion_matrix(y_test_num, y_hat_pred)\n",
        "sns.heatmap(np.log(conf+1), cmap='gray')\n",
        "conf"
      ],
      "execution_count": null,
      "outputs": [
        {
          "output_type": "execute_result",
          "data": {
            "text/plain": [
              "array([[14353,    19,    76,    18,    55],\n",
              "       [  217,   217,     7,     0,     6],\n",
              "       [  179,     1,   922,    16,    37],\n",
              "       [   30,     0,     5,    82,     4],\n",
              "       [  118,     0,    45,     1,  1103]])"
            ]
          },
          "metadata": {
            "tags": []
          },
          "execution_count": 65
        },
        {
          "output_type": "display_data",
          "data": {
            "image/png": "[encoded data removed]",
            "text/plain": [
              "<Figure size 432x288 with 2 Axes>"
            ]
          },
          "metadata": {
            "tags": [],
            "needs_background": "light"
          }
        }
      ]
    },
    {
      "cell_type": "markdown",
      "metadata": {
        "id": "O_BBMuidiKqf",
        "colab_type": "text"
      },
      "source": [
        "# Alternative CNN architecture with original data"
      ]
    },
    {
      "cell_type": "markdown",
      "metadata": {
        "id": "v-Y3O37KbueY",
        "colab_type": "text"
      },
      "source": [
        "Second experiment: Run the same CNN architecture but with the original ECG data. There are minor changes to the CNN architecture to adapt it to the new input sizes."
      ]
    },
    {
      "cell_type": "code",
      "metadata": {
        "id": "0fj9hnvihXNq",
        "colab_type": "code",
        "colab": {}
      },
      "source": [
        "history_train_acc =  []\n",
        "history_train_loss = []\n",
        "history_val_acc =  []\n",
        "history_val_loss = []\n",
        "\n",
        "for i in range(5):\n",
        "  X = data[data.columns.values[:-1]]\n",
        "  y = data[data.columns.values[-1]]\n",
        "  y_keras = y.copy()\n",
        "  y_keras = pd.get_dummies(y_keras)\n",
        "\n",
        "\n",
        "  X_train, X_test, y_train, y_test = train_test_split(X.to_numpy(), y_keras.to_numpy(), test_size=0.2)\n",
        "  X_train = X_train[:,:,np.newaxis]\n",
        "  X_test = X_test[:,:,np.newaxis]\n",
        "  print(X_train.shape)\n",
        "  print(y_train.shape)\n",
        "\n",
        "\n",
        "\n",
        "  n_timesteps = X.shape[1]\n",
        "  n_outputs = 5\n",
        "  batch_size = 64\n",
        "\n",
        "\n",
        "  model = Sequential()\n",
        "  model.add(InputLayer(input_shape=(n_timesteps,1)))\n",
        "\n",
        "  model.add(Conv1D(filters=64, kernel_size=3, activation='relu', padding='same', input_shape=(n_timesteps,1)))\n",
        "  model.add(MaxPooling1D(pool_size=2))\n",
        "\n",
        "  model.add(Conv1D(filters=32, kernel_size=3, activation='relu', padding='same'))\n",
        "  model.add(MaxPooling1D(pool_size=2))\n",
        "\n",
        "  model.add(Conv1D(filters=32, kernel_size=2, activation='relu', padding='same'))\n",
        "  model.add(MaxPooling1D(pool_size=2))\n",
        "\n",
        "  #model.add(Conv1D(filters=64, kernel_size=3, activation='relu'))\n",
        "  #model.add(MaxPooling2D(pool_size=2))\n",
        "\n",
        "  model.add(Dropout(0.5))\n",
        "  model.add(Flatten())\n",
        "  model.add(Dense(100, activation='relu'))\n",
        "  model.add(Dense(n_outputs, activation='softmax', name=\"visualized_layer\"))\n",
        "  model.compile(loss='categorical_crossentropy', optimizer='sgd', metrics=['accuracy'])\n",
        "\n",
        "  model.summary()\n",
        "  change_lr = LearningRateScheduler(scheduler)\n",
        "  history = model.fit(x=X_train, y=y_train, epochs=300, validation_data=(X_test, y_test), callbacks=[change_lr])\n",
        "  history_train_acc.append(history.history['accuracy'])\n",
        "  history_train_loss.append(history.history['loss'])\n",
        "  history_val_acc.append(history.history['val_accuracy'])\n",
        "  history_val_loss.append(history.history['val_loss'])"
      ],
      "execution_count": null,
      "outputs": []
    },
    {
      "cell_type": "code",
      "metadata": {
        "id": "Q7VaJ6nJ_y5p",
        "colab_type": "code",
        "colab": {
          "base_uri": "https://localhost:8080/",
          "height": 901
        },
        "outputId": "59680701-b008-4d2f-9f10-1210bbc1bdb0"
      },
      "source": [
        "history_train_acc =  np.array(history_train_acc)\n",
        "history_train_loss = np.array(history_train_loss)\n",
        "history_val_acc =  np.array(history_val_acc)\n",
        "history_val_loss = np.array(history_val_loss)\n",
        "\n",
        "train_acc_mean = np.mean(history_train_acc, axis=0)\n",
        "val_acc_mean = np.mean(history_val_acc, axis=0)\n",
        "train_loss_mean = np.mean(history_train_loss, axis=0)\n",
        "val_loss_mean = np.mean(history_val_loss, axis=0)\n",
        "\n",
        "fig, ax = plt.subplots(figsize=(12, 7))\n",
        "ax.plot(train_acc_mean, color='red')\n",
        "ax.plot(val_acc_mean, color='blue')\n",
        "ax.set_xlabel('Epochs')\n",
        "ax.set_ylabel('Accuracy')\n",
        "plt.grid()\n",
        "plt.show()\n",
        "\n",
        "fig, ax = plt.subplots(figsize=(12, 7))\n",
        "ax.plot(train_loss_mean, color='red')\n",
        "ax.plot(val_loss_mean, color='blue')\n",
        "ax.set_xlabel('Epochs')\n",
        "ax.set_ylabel('Loss')\n",
        "plt.grid()\n",
        "plt.show()\n",
        "\n",
        "print(\"Average accuracy on train: \", train_acc_mean[-1])\n",
        "print(\"Average accuracy on validation: \", val_acc_mean[-1])"
      ],
      "execution_count": null,
      "outputs": [
        {
          "output_type": "display_data",
          "data": {
            "image/png": "[encoded data removed]",
            "text/plain": [
              "<Figure size 864x504 with 1 Axes>"
            ]
          },
          "metadata": {
            "tags": [],
            "needs_background": "light"
          }
        },
        {
          "output_type": "display_data",
          "data": {
            "image/png": "[encoded data removed]",
            "text/plain": [
              "<Figure size 864x504 with 1 Axes>"
            ]
          },
          "metadata": {
            "tags": [],
            "needs_background": "light"
          }
        },
        {
          "output_type": "stream",
          "text": [
            "Average accuracy on train:  0.9818654298782349\n",
            "Average accuracy on validation:  0.9839757919311524\n"
          ],
          "name": "stdout"
        }
      ]
    },
    {
      "cell_type": "code",
      "metadata": {
        "id": "_8D6_v24lAgA",
        "colab_type": "code",
        "colab": {
          "base_uri": "https://localhost:8080/",
          "height": 350
        },
        "outputId": "724f9ef5-c7fa-49be-a6ee-b46652f36ec2"
      },
      "source": [
        "y_hat = model.predict(X_test)\n",
        "y_hat_pred = np.array([np.argmax(x) for x in y_hat])\n",
        "y_test_num = np.array([np.argmax(x) for x in y_test])\n",
        "from sklearn.metrics import confusion_matrix\n",
        "conf = confusion_matrix(y_test_num, y_hat_pred)\n",
        "sns.heatmap(np.log(conf+1), cmap='gray')\n",
        "conf"
      ],
      "execution_count": null,
      "outputs": [
        {
          "output_type": "execute_result",
          "data": {
            "text/plain": [
              "array([[14443,    16,    15,     8,     7],\n",
              "       [   95,   337,     5,     0,     2],\n",
              "       [   38,     1,  1124,     4,     2],\n",
              "       [   19,     1,    10,   105,     0],\n",
              "       [   15,     0,     0,     0,  1264]])"
            ]
          },
          "metadata": {
            "tags": []
          },
          "execution_count": 62
        },
        {
          "output_type": "display_data",
          "data": {
            "image/png": "[encoded data removed]",
            "text/plain": [
              "<Figure size 432x288 with 2 Axes>"
            ]
          },
          "metadata": {
            "tags": [],
            "needs_background": "light"
          }
        }
      ]
    },
    {
      "cell_type": "markdown",
      "metadata": {
        "id": "Tw38-0wZy8V5",
        "colab_type": "text"
      },
      "source": [
        "# Alternative CNN architecture with only 4 landscapes"
      ]
    },
    {
      "cell_type": "markdown",
      "metadata": {
        "id": "eA8TRp6Pb2qk",
        "colab_type": "text"
      },
      "source": [
        "Third experiment: Let us validate if the landscapes that have been identified as the important ones are really significative and enough for the network to make a classification."
      ]
    },
    {
      "cell_type": "code",
      "metadata": {
        "id": "oNyUrtWuy_8D",
        "colab_type": "code",
        "colab": {}
      },
      "source": [
        "##You need to execute the cells under Landscape Levels so you have the data into its correct format.\n",
        "##otherwise it will give an error.\n",
        "LL = LL[:, :4, :]\n",
        "\n",
        "history_train_acc =  []\n",
        "history_train_loss = []\n",
        "history_val_acc =  []\n",
        "history_val_loss = []\n",
        "\n",
        "n_outputs = 5\n",
        "batch_size = 64\n",
        "\n",
        "for i in range(5):\n",
        "\n",
        "  X_train, X_test, y_train, y_test = train_test_split(LL, y_keras.to_numpy(), test_size=0.2, stratify=y)\n",
        "\n",
        "  X_train = X_train[:,:,:,np.newaxis]\n",
        "  X_test = X_test[:,:,:,np.newaxis]\n",
        "\n",
        "  model = Sequential()\n",
        "  model.add(InputLayer(input_shape=(nbld, resolution, 1)))\n",
        "\n",
        "  model.add(Dropout(0.25))\n",
        "  model.add(Conv2D(filters=64, kernel_size=3, activation='relu', padding='same', input_shape=(nbld, resolution, 1)))\n",
        "  model.add(MaxPooling2D(pool_size=(1,2)))\n",
        "\n",
        "\n",
        "  model.add(Conv2D(filters=32, kernel_size=3, activation='relu', padding='same'))\n",
        "  model.add(MaxPooling2D(pool_size=(1,2)))\n",
        "\n",
        "  model.add(Dropout(0.25))\n",
        "  model.add(Conv2D(filters=32, kernel_size=2, activation='relu', padding='same'))\n",
        "  model.add(MaxPooling2D(pool_size=(1,2)))\n",
        "\n",
        "  model.add(BatchNormalization())\n",
        "  #model.add(Conv2D(filters=64, kernel_size=3, activation='relu'))\n",
        "  #model.add(MaxPooling2D(pool_size=2))\n",
        "\n",
        "  model.add(Dropout(0.20))\n",
        "  model.add(Flatten())\n",
        "  model.add(Dense(100, activation='relu'))\n",
        "  model.add(Dense(n_outputs, activation='softmax', name=\"visualized_layer\"))\n",
        "  model.compile(loss='categorical_crossentropy', optimizer='sgd', metrics=['accuracy'])\n",
        "\n",
        "  model.summary()\n",
        "  change_lr = LearningRateScheduler(scheduler)\n",
        "  history = model.fit(x=X_train, y=y_train, epochs=300, validation_data=(X_test, y_test), callbacks=[change_lr])\n",
        "  history_train_acc.append(history.history['accuracy'])\n",
        "  history_train_loss.append(history.history['loss'])\n",
        "  history_val_acc.append(history.history['val_accuracy'])\n",
        "  history_val_loss.append(history.history['val_loss'])\n",
        "  K.clear_session()\n",
        "  del model, history, change_lr, X_train, X_test, y_train, y_test\n",
        "  gc.collect()"
      ],
      "execution_count": null,
      "outputs": []
    },
    {
      "cell_type": "code",
      "metadata": {
        "id": "fd4gosd_zRZ3",
        "colab_type": "code",
        "colab": {
          "base_uri": "https://localhost:8080/",
          "height": 867
        },
        "outputId": "e2ba8f1c-e4bd-4fd2-d598-5ee1285c8f0f"
      },
      "source": [
        "history_train_acc =  np.array(history_train_acc)\n",
        "history_train_loss = np.array(history_train_loss)\n",
        "history_val_acc =  np.array(history_val_acc)\n",
        "history_val_loss = np.array(history_val_loss)\n",
        "\n",
        "train_acc_mean = np.mean(history_train_acc, axis=0)\n",
        "val_acc_mean = np.mean(history_val_acc, axis=0)\n",
        "train_loss_mean = np.mean(history_train_loss, axis=0)\n",
        "val_loss_mean = np.mean(history_val_loss, axis=0)\n",
        "\n",
        "fig, ax = plt.subplots(figsize=(12, 7))\n",
        "ax.plot(train_acc_mean, color='red')\n",
        "ax.plot(val_acc_mean, color='blue')\n",
        "ax.set_xlabel('Epochs')\n",
        "ax.set_ylabel('Accuracy')\n",
        "plt.grid()\n",
        "plt.show()\n",
        "\n",
        "fig, ax = plt.subplots(figsize=(12, 7))\n",
        "ax.plot(train_loss_mean, color='red')\n",
        "ax.plot(val_loss_mean, color='blue')\n",
        "ax.set_xlabel('Epochs')\n",
        "ax.set_ylabel('Loss')\n",
        "plt.grid()\n",
        "plt.show()\n",
        "\n",
        "print(\"Average accuracy on train: \", train_acc_mean[-1])\n",
        "print(\"Average accuracy on validation: \", val_acc_mean[-1])"
      ],
      "execution_count": null,
      "outputs": [
        {
          "output_type": "display_data",
          "data": {
            "image/png": "[encoded data removed]",
            "text/plain": [
              "<Figure size 864x504 with 1 Axes>"
            ]
          },
          "metadata": {
            "tags": [],
            "needs_background": "light"
          }
        },
        {
          "output_type": "display_data",
          "data": {
            "image/png": "[encoded data removed]",
            "text/plain": [
              "<Figure size 864x504 with 1 Axes>"
            ]
          },
          "metadata": {
            "tags": [],
            "needs_background": "light"
          }
        }
      ]
    },
    {
      "cell_type": "markdown",
      "metadata": {
        "id": "ISlCX29tbJ82",
        "colab_type": "text"
      },
      "source": [
        "# Alternative CNN architecture with 4 less significative landscapes"
      ]
    },
    {
      "cell_type": "markdown",
      "metadata": {
        "id": "DxtJzz36b-wD",
        "colab_type": "text"
      },
      "source": [
        "Fourth Experiment: Try to classify using the 4 less significative landscapes to prove that the representation is not trivial."
      ]
    },
    {
      "cell_type": "code",
      "metadata": {
        "id": "jf_50JTTGNQQ",
        "colab_type": "code",
        "colab": {}
      },
      "source": [
        "##You need to execute the cells under Landscape Levels so you have the data into its correct format.\n",
        "##otherwise it will give an error.\n",
        "LL = LL[:, 6:, :]\n",
        "\n",
        "n_outputs = 5\n",
        "batch_size = 64\n",
        "\n",
        "history_train_acc =  []\n",
        "history_train_loss = []\n",
        "history_val_acc =  []\n",
        "history_val_loss = []\n",
        "\n",
        "\n",
        "for i in range(5):\n",
        "\n",
        "  X_train, X_test, y_train, y_test = train_test_split(LL, y_keras.to_numpy(), test_size=0.2, stratify=y)\n",
        "\n",
        "  X_train = X_train[:,:,:,np.newaxis]\n",
        "  X_test = X_test[:,:,:,np.newaxis]\n",
        "\n",
        "  model = Sequential()\n",
        "  model.add(InputLayer(input_shape=(4, resolution, 1)))\n",
        "\n",
        "  model.add(Dropout(0.25))\n",
        "  model.add(Conv2D(filters=64, kernel_size=3, activation='relu', padding='same', input_shape=(nbld, resolution, 1)))\n",
        "  model.add(MaxPooling2D(pool_size=(1,2)))\n",
        "\n",
        "\n",
        "  model.add(Conv2D(filters=32, kernel_size=3, activation='relu', padding='same'))\n",
        "  model.add(MaxPooling2D(pool_size=(1,2)))\n",
        "\n",
        "  model.add(Dropout(0.25))\n",
        "  model.add(Conv2D(filters=32, kernel_size=2, activation='relu', padding='same'))\n",
        "  model.add(MaxPooling2D(pool_size=(1,2)))\n",
        "\n",
        "  model.add(BatchNormalization())\n",
        "  #model.add(Conv2D(filters=64, kernel_size=3, activation='relu'))\n",
        "  #model.add(MaxPooling2D(pool_size=2))\n",
        "\n",
        "  model.add(Dropout(0.20))\n",
        "  model.add(Flatten())\n",
        "  model.add(Dense(100, activation='relu'))\n",
        "  model.add(Dense(n_outputs, activation='softmax', name=\"visualized_layer\"))\n",
        "  model.compile(loss='categorical_crossentropy', optimizer='sgd', metrics=['accuracy'])\n",
        "\n",
        "  model.summary()\n",
        "  change_lr = LearningRateScheduler(scheduler)\n",
        "  history = model.fit(x=X_train, y=y_train, epochs=300, validation_data=(X_test, y_test), callbacks=[change_lr])\n",
        "  history_train_acc.append(history.history['accuracy'])\n",
        "  history_train_loss.append(history.history['loss'])\n",
        "  history_val_acc.append(history.history['val_accuracy'])\n",
        "  history_val_loss.append(history.history['val_loss'])\n",
        "  K.clear_session()\n",
        "  del model, history, change_lr, X_train, X_test, y_train, y_test\n",
        "  gc.collect()"
      ],
      "execution_count": null,
      "outputs": []
    },
    {
      "cell_type": "code",
      "metadata": {
        "id": "xZZBgphDcSur",
        "colab_type": "code",
        "colab": {
          "base_uri": "https://localhost:8080/",
          "height": 868
        },
        "outputId": "205b6f7f-05dc-4011-8153-dcdcb3460a6b"
      },
      "source": [
        "history_train_acc =  np.array(history_train_acc)\n",
        "history_train_loss = np.array(history_train_loss)\n",
        "history_val_acc =  np.array(history_val_acc)\n",
        "history_val_loss = np.array(history_val_loss)\n",
        "\n",
        "train_acc_mean = np.mean(history_train_acc, axis=0)\n",
        "val_acc_mean = np.mean(history_val_acc, axis=0)\n",
        "train_loss_mean = np.mean(history_train_loss, axis=0)\n",
        "val_loss_mean = np.mean(history_val_loss, axis=0)\n",
        "\n",
        "fig, ax = plt.subplots(figsize=(12, 7))\n",
        "ax.plot(train_acc_mean, color='red')\n",
        "ax.plot(val_acc_mean, color='blue')\n",
        "ax.set_xlabel('Epochs')\n",
        "ax.set_ylabel('Accuracy')\n",
        "plt.grid()\n",
        "plt.show()\n",
        "\n",
        "fig, ax = plt.subplots(figsize=(12, 7))\n",
        "ax.plot(train_loss_mean, color='red')\n",
        "ax.plot(val_loss_mean, color='blue')\n",
        "ax.set_xlabel('Epochs')\n",
        "ax.set_ylabel('Loss')\n",
        "plt.grid()\n",
        "plt.show()\n",
        "\n",
        "print(\"Average accuracy on train: \", train_acc_mean[-1])\n",
        "print(\"Average accuracy on validation: \", val_acc_mean[-1])"
      ],
      "execution_count": null,
      "outputs": [
        {
          "output_type": "display_data",
          "data": {
            "image/png": "[encoded data removed]",
            "text/plain": [
              "<Figure size 864x504 with 1 Axes>"
            ]
          },
          "metadata": {
            "tags": [],
            "needs_background": "light"
          }
        },
        {
          "output_type": "display_data",
          "data": {
            "image/png": "[encoded data removed]",
            "text/plain": [
              "<Figure size 864x504 with 1 Axes>"
            ]
          },
          "metadata": {
            "tags": [],
            "needs_background": "light"
          }
        }
      ]
    },
    {
      "cell_type": "markdown",
      "metadata": {
        "id": "pbnHiUsH3Lrh",
        "colab_type": "text"
      },
      "source": [
        "# Alternative CNN architecture with Betti curves"
      ]
    },
    {
      "cell_type": "markdown",
      "metadata": {
        "id": "W59hgsZXcFpS",
        "colab_type": "text"
      },
      "source": [
        "Fifth experiment: for comparison purposes, run the same CNN architecture but with the betti curves representation."
      ]
    },
    {
      "cell_type": "code",
      "metadata": {
        "id": "Kab5U5nU3N7O",
        "colab_type": "code",
        "colab": {}
      },
      "source": [
        "embedding_size = 180\n",
        "betti_curves = np.zeros((X.shape[0], embedding_size))\n",
        "\n",
        "for i in tqdm(range(X.shape[0])):\n",
        "    betti_curves[i] = to_betti(X.iloc[i].to_numpy(), num_points=embedding_size)\n",
        "\n",
        "n_outputs = 5\n",
        "batch_size = 64\n",
        "\n",
        "history_train_acc =  []\n",
        "history_train_loss = []\n",
        "history_val_acc =  []\n",
        "history_val_loss = []\n",
        "\n",
        "for i in range(5):\n",
        "  X_train, X_test, y_train, y_test = train_test_split(betti_curves, y_keras.to_numpy(), test_size=0.2)\n",
        "  X_train = X_train[:,:,np.newaxis]\n",
        "  X_test = X_test[:,:,np.newaxis]\n",
        "\n",
        "  model = Sequential()\n",
        "  model.add(InputLayer(input_shape=(embedding_size,1)))\n",
        "\n",
        "  model.add(Conv1D(filters=64, kernel_size=3, activation='relu', padding='same', input_shape=(embedding_size,1)))\n",
        "  model.add(MaxPooling1D(pool_size=2))\n",
        "\n",
        "  model.add(Conv1D(filters=32, kernel_size=3, activation='relu', padding='same'))\n",
        "  model.add(MaxPooling1D(pool_size=2))\n",
        "\n",
        "  model.add(Conv1D(filters=32, kernel_size=2, activation='relu', padding='same'))\n",
        "  model.add(MaxPooling1D(pool_size=2))\n",
        "\n",
        "  #model.add(Conv1D(filters=64, kernel_size=3, activation='relu'))\n",
        "  #model.add(MaxPooling2D(pool_size=2))\n",
        "\n",
        "  model.add(Dropout(0.5))\n",
        "  model.add(Flatten())\n",
        "  model.add(Dense(100, activation='relu'))\n",
        "  model.add(Dense(n_outputs, activation='softmax', name=\"visualized_layer\"))\n",
        "  model.compile(loss='categorical_crossentropy', optimizer='sgd', metrics=['accuracy'])\n",
        "\n",
        "  model.summary()\n",
        "  change_lr = LearningRateScheduler(scheduler)\n",
        "  history = model.fit(x=X_train, y=y_train, epochs=300, validation_data=(X_test, y_test), callbacks=[change_lr])\n",
        "  history_train_acc.append(history.history['accuracy'])\n",
        "  history_train_loss.append(history.history['loss'])\n",
        "  history_val_acc.append(history.history['val_accuracy'])\n",
        "  history_val_loss.append(history.history['val_loss'])\n",
        "  K.clear_session()\n",
        "  del model, history, change_lr, X_train, X_test, y_train, y_test\n",
        "  gc.collect()"
      ],
      "execution_count": null,
      "outputs": []
    },
    {
      "cell_type": "code",
      "metadata": {
        "id": "5V3vzGt8QhEe",
        "colab_type": "code",
        "colab": {
          "base_uri": "https://localhost:8080/"
        },
        "outputId": "f5e83d9e-b527-4927-bc92-716948efe07c"
      },
      "source": [
        "history_train_acc =  np.array(history_train_acc)\n",
        "history_train_loss = np.array(history_train_loss)\n",
        "history_val_acc =  np.array(history_val_acc)\n",
        "history_val_loss = np.array(history_val_loss)\n",
        "\n",
        "train_acc_mean = np.mean(history_train_acc, axis=0)\n",
        "val_acc_mean = np.mean(history_val_acc, axis=0)\n",
        "train_loss_mean = np.mean(history_train_loss, axis=0)\n",
        "val_loss_mean = np.mean(history_val_loss, axis=0)\n",
        "\n",
        "fig, ax = plt.subplots(figsize=(12, 7))\n",
        "ax.plot(train_acc_mean, color='red')\n",
        "ax.plot(val_acc_mean, color='blue')\n",
        "ax.set_xlabel('Epochs')\n",
        "ax.set_ylabel('Accuracy')\n",
        "plt.grid()\n",
        "plt.show()\n",
        "\n",
        "fig, ax = plt.subplots(figsize=(12, 7))\n",
        "ax.plot(train_loss_mean, color='red')\n",
        "ax.plot(val_loss_mean, color='blue')\n",
        "ax.set_xlabel('Epochs')\n",
        "ax.set_ylabel('Loss')\n",
        "plt.grid()\n",
        "plt.show()\n",
        "\n",
        "print(\"Average accuracy on train: \", train_acc_mean[-1])\n",
        "print(\"Average accuracy on validation: \", val_acc_mean[-1])"
      ],
      "execution_count": null,
      "outputs": [
        {
          "output_type": "display_data",
          "data": {
            "image/png": "[encoded data removed]",
            "text/plain": [
              "<Figure size 864x504 with 1 Axes>"
            ]
          },
          "metadata": {
            "tags": [],
            "needs_background": "light"
          }
        },
        {
          "output_type": "display_data",
          "data": {
            "image/png": "[encoded data removed]",
            "text/plain": [
              "<Figure size 864x504 with 1 Axes>"
            ]
          },
          "metadata": {
            "tags": [],
            "needs_background": "light"
          }
        },
        {
          "output_type": "stream",
          "text": [
            "Average accuracy on train:  0.9476864337921143\n",
            "Average accuracy on validation:  0.9459197044372558\n"
          ],
          "name": "stdout"
        }
      ]
    },
    {
      "cell_type": "markdown",
      "metadata": {
        "id": "C0WFtPVal0ov",
        "colab_type": "text"
      },
      "source": [
        "# Reconstruction of the signal"
      ]
    },
    {
      "cell_type": "markdown",
      "metadata": {
        "id": "GoW2hJFPc1Hu",
        "colab_type": "text"
      },
      "source": [
        "We propose an approximate reconstructing algorithm.\n",
        "Once we find which landscapes are significative for the network to make a prediction, we can reconstruct the part of the signal that is producing them. Reconstructing a signal its landscapes is not accurate, as different signals can produce the same landscapes. However, since we can use the original data, we can produce a reconstructing + matching algorithm that can identify the important parts of the signal."
      ]
    },
    {
      "cell_type": "code",
      "metadata": {
        "id": "g6a0ymndKjRv",
        "colab_type": "code",
        "colab": {
          "base_uri": "https://localhost:8080/",
          "height": 115,
          "referenced_widgets": [
            "dd8cba6786964d8987fda26beb788bf8",
            "a949ecdcdfe14e9c917856dd5cbc28dc",
            "5f2b27bc6d064151881b16fee957bfee",
            "ee5ea02bee30417080ce44993d83c9ff",
            "2a42478eedcc44b8aaca346f1f835272",
            "7b40ebdfd4874f30bf968592f9630bce",
            "ed29f13cbe8c430c8a125226ab7eb781",
            "8b1635d05571452f80666c8d3d67dd60",
            "105a0fe5cbfb4a9fab45f1bfaf936b00",
            "18f0a032ec7e4143b2d43cefac6f383c",
            "a434f895d0f1435b9bfe4eb57f072c85",
            "d3c3e2bef9844e56bbfa3cf70a21b26b",
            "ef29498e45c24261a8853987be8a9b91",
            "41aca0e25e0746b1a0b53878e2d6bc5d",
            "f12d47b0f34c4736b270193701ae3930",
            "a2666ca58f0e427db205f3f366bb4be1"
          ]
        },
        "outputId": "adaba040-34e5-4402-8c47-0f831199e69a"
      },
      "source": [
        "persistence = [getPersistence(X.iloc[i].to_numpy(), num_points=100, clean=False) for i in tqdm(range(X.shape[0]))]\n",
        "diag = [x[0] for x in persistence]\n",
        "\n",
        "nbld =  10# number of Landscapes\n",
        "#Changing the resolution means that our reconstruction will be a bit more accurate. \n",
        "resolution = 70\n",
        "length_max = 1\n",
        "length_min = 0\n",
        "ld_dim = 0 # landscape dim\n",
        "\n",
        "L = [ landscapes_approx([x[1] for x in y[1:]], length_min, length_max, resolution,nbld) for y in tqdm(diag) ]\n",
        "LL = np.array(L)\n",
        "del L\n",
        "gc.collect()"
      ],
      "execution_count": null,
      "outputs": [
        {
          "output_type": "display_data",
          "data": {
            "application/vnd.jupyter.widget-view+json": {
              "model_id": "dd8cba6786964d8987fda26beb788bf8",
              "version_minor": 0,
              "version_major": 2
            },
            "text/plain": [
              "HBox(children=(FloatProgress(value=0.0, max=87554.0), HTML(value='')))"
            ]
          },
          "metadata": {
            "tags": []
          }
        },
        {
          "output_type": "stream",
          "text": [
            "\n"
          ],
          "name": "stdout"
        },
        {
          "output_type": "display_data",
          "data": {
            "application/vnd.jupyter.widget-view+json": {
              "model_id": "105a0fe5cbfb4a9fab45f1bfaf936b00",
              "version_minor": 0,
              "version_major": 2
            },
            "text/plain": [
              "HBox(children=(FloatProgress(value=0.0, max=87554.0), HTML(value='')))"
            ]
          },
          "metadata": {
            "tags": []
          }
        },
        {
          "output_type": "stream",
          "text": [
            "\n"
          ],
          "name": "stdout"
        }
      ]
    },
    {
      "cell_type": "markdown",
      "metadata": {
        "id": "lL0m15V_cRbH",
        "colab_type": "text"
      },
      "source": [
        "## Functions for the reconstruction."
      ]
    },
    {
      "cell_type": "code",
      "metadata": {
        "id": "27fwP8wPmz8A",
        "colab_type": "code",
        "colab": {}
      },
      "source": [
        "def check_zeros(lst):\n",
        "  zeros_min = []\n",
        "  zeros_max = []\n",
        "  if np.abs(lst[0]) > 10e-6:\n",
        "    zeros_min.append(0)\n",
        "\n",
        "  for i in range(1, len(lst)-1):\n",
        "    if np.abs(lst[i-1]) < 10e-6 and np.abs(lst[i]) > 10e-6 and np.abs(lst[i+1]) > 10e-6:\n",
        "      zeros_min.append(i)\n",
        "    elif np.abs(lst[i+1]) < 10e-6 and np.abs(lst[i]) > 10e-6 and np.abs(lst[i-1]) > 10e-6:\n",
        "      zeros_max.append(i)\n",
        "\n",
        "  if np.abs(lst[len(lst)-1]) > 10e-6:\n",
        "    zeros_max.append(len(lst)-1)\n",
        "\n",
        "  return zeros_min, zeros_max\n",
        "\n",
        "def check_min_max(lst_min, lst_max, resolution):\n",
        "  xx = np.linspace(0, 1, resolution)\n",
        "  min = [xx[i] for i in lst_min]\n",
        "  max = [xx[i] for i in lst_max]\n",
        "\n",
        "  return min, max\n",
        "\n",
        "def get_closest_points(lst_min, lst_max, original):\n",
        "  x_min = []\n",
        "  x_max = []\n",
        "  for m in lst_min:\n",
        "    x_min.append(np.argmin((original-m)**2))\n",
        "  for m in lst_max:\n",
        "    x_max.append(np.argmin((original-m)**2))\n",
        "\n",
        "  return x_min, x_max\n",
        "\n",
        "def reconstruct_function_steps(landscapes, original, res, levels=4):\n",
        "  xx = []\n",
        "  yy = []\n",
        "  for i in range(levels):\n",
        "    lst_min, lst_max = check_zeros(landscapes[i])\n",
        "    min, max = check_min_max(lst_min, lst_max, res)\n",
        "    yy = yy + min + max\n",
        "    x_min, x_max = get_closest_points(min, max, original)\n",
        "    xx = xx + x_min + x_max\n",
        "\n",
        "    idx = np.argsort(xx)\n",
        "    xx = [xx[i] for i in idx]\n",
        "    yy = [yy[i] for i in idx]\n",
        "\n",
        "    plt.figure(figsize=(15, 10))\n",
        "    plt.plot(original)\n",
        "    plt.plot(xx, yy)\n",
        "    plt.plot(x_min + x_max, min + max, \"*\")\n",
        "    plt.show()\n",
        "    \n",
        "  return xx, yy\n",
        "\n",
        "def reconstruct_function(landscapes, original, res, levels=4):\n",
        "  xx = []\n",
        "  yy = []\n",
        "  for i in range(levels):\n",
        "    lst_min, lst_max = check_zeros(landscapes[i])\n",
        "    min, max = check_min_max(lst_min, lst_max, res)\n",
        "    yy = yy + min + max\n",
        "    x_min, x_max = get_closest_points(min, max, original)\n",
        "    xx = xx + x_min + x_max\n",
        "  \n",
        "  idx = np.argsort(xx)\n",
        "  xx = [xx[i] for i in idx]\n",
        "  yy = [yy[i] for i in idx]\n",
        "    \n",
        "  return xx, yy"
      ],
      "execution_count": null,
      "outputs": []
    },
    {
      "cell_type": "markdown",
      "metadata": {
        "id": "qb6CtACbdJFL",
        "colab_type": "text"
      },
      "source": [
        "An example of reconstruction."
      ]
    },
    {
      "cell_type": "code",
      "metadata": {
        "id": "unLop84MvJKo",
        "colab_type": "code",
        "colab": {
          "base_uri": "https://localhost:8080/",
          "height": 641,
          "referenced_widgets": [
            "d25104af2ac84f3fb5e0646a882bec56",
            "90f469b9357a4917be5533cd03ce8e2f",
            "86f541520a8e4aa49f35c18435dea018",
            "3a0798fa8cf54c6199f412b2c827b933",
            "de5a6b814ebb4f31bf3f0955a9895363",
            "7c68fbb8eea746a8b5a130e69a9a41ed",
            "0f9ab29e23f241d991a059a0c7f84953",
            "055bb3f2738a4f299059f08b792c9afa"
          ]
        },
        "outputId": "0d136870-0536-45a2-d7f2-ecf750870890"
      },
      "source": [
        "ii = 0\n",
        "xx, yy = reconstruct_function(LL[0], X.iloc[ii], resolution, 4)\n",
        "\n",
        "plt.figure(figsize=(12, 10))\n",
        "plt.plot(X.iloc[ii])\n",
        "plt.plot(xx, yy, \"*-\")\n",
        "plt.show()"
      ],
      "execution_count": null,
      "outputs": [
        {
          "output_type": "display_data",
          "data": {
            "application/vnd.jupyter.widget-view+json": {
              "model_id": "d25104af2ac84f3fb5e0646a882bec56",
              "version_minor": 0,
              "version_major": 2
            },
            "text/plain": [
              "HBox(children=(FloatProgress(value=0.0, max=1.0), HTML(value='')))"
            ]
          },
          "metadata": {
            "tags": []
          }
        },
        {
          "output_type": "stream",
          "text": [
            "\n"
          ],
          "name": "stdout"
        },
        {
          "output_type": "display_data",
          "data": {
            "image/png": "[encoded data removed]",
            "text/plain": [
              "<Figure size 864x720 with 1 Axes>"
            ]
          },
          "metadata": {
            "tags": [],
            "needs_background": "light"
          }
        }
      ]
    }
  ]
}